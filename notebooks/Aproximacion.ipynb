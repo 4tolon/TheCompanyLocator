{
 "cells": [
  {
   "cell_type": "markdown",
   "id": "9c10dafa",
   "metadata": {},
   "source": [
    "# TheCompanyLocator\n"
   ]
  },
  {
   "cell_type": "markdown",
   "id": "1c1ed99a",
   "metadata": {},
   "source": [
    "Vamos ha ubicara el mejor distrito de Madrid para nuestra company"
   ]
  },
  {
   "cell_type": "markdown",
   "id": "2b7e556a",
   "metadata": {},
   "source": [
    "20 Designers\n",
    "5 UI/UX Engineers\n",
    "10 Frontend Developers\n",
    "15 Data Engineers\n",
    "5 Backend Developers\n",
    "20 Account Managers\n",
    "1 Maintenance guy that loves basketball\n",
    "10 Executives\n",
    "1 CEO/President."
   ]
  },
  {
   "cell_type": "code",
   "execution_count": 79,
   "id": "dff6258f",
   "metadata": {},
   "outputs": [],
   "source": [
    "import folium\n",
    "from folium import Choropleth, Circle, Marker, Icon, Map\n",
    "from folium.plugins import HeatMap, MarkerCluster\n",
    "import requests\n",
    "import json\n",
    "from itertools import islice\n",
    "#from dotenv import load_dotenv\n",
    "import os\n",
    "import pandas as pd\n",
    "import time"
   ]
  },
  {
   "cell_type": "markdown",
   "id": "19a58d95",
   "metadata": {},
   "source": [
    "1 - Designers like to go to design talks and share knowledge. There must be some nearby companies that also do design.\n",
    "2 30% of the company staff have at least 1 child.\n",
    "Developers like to be near successful tech startups that have raised at least 1 Million dollars.\n",
    "Executives like Starbucks A LOT. Ensure there's a starbucks not too far.\n",
    "Account managers need to travel a lot.\n",
    "Everyone in the company is between 25 and 40, give them some place to go party.\n",
    "The CEO is vegan.\n",
    "If you want to make the maintenance guy happy, a basketball stadium must be around 10 Km.\n",
    "The office dog—\"Dobby\" needs a hairdresser every month. Ensure there's one not too far away."
   ]
  },
  {
   "cell_type": "code",
   "execution_count": 80,
   "id": "d56777fd",
   "metadata": {},
   "outputs": [],
   "source": [
    "personal_num = {'Designers':20,\n",
    "                'UI/UX Engineers':5,\n",
    "                'Frontend Developers':10,\n",
    "                'Data Engineers':15,\n",
    "                'Backend Developers':5,\n",
    "                'Account Managers':20,\n",
    "                'Maintenance guy':1,\n",
    "                'Executives':10,\n",
    "                'CEO/President':1} "
   ]
  },
  {
   "cell_type": "code",
   "execution_count": 81,
   "id": "e7dee6f1",
   "metadata": {},
   "outputs": [],
   "source": [
    "personal_code = {'Designers':1,\n",
    "            'UI/UX Engineers':2,\n",
    "            'Frontend Developers':3,\n",
    "            'Data Engineers':4,\n",
    "            'Backend Developers':5,\n",
    "            'Account Managers':6,\n",
    "            'Maintenance guy':7,\n",
    "            'Executives':8,\n",
    "            'CEO/President':9}                    "
   ]
  },
  {
   "cell_type": "code",
   "execution_count": 82,
   "id": "88afc7c4",
   "metadata": {},
   "outputs": [],
   "source": [
    "criteria  = {1:'Designers like to go to design talks and share knowledge. There must be some nearby companies that also do design',\n",
    "                2:'30% of the company staff have at least 1 child',\n",
    "                3:'Developers like to be near successful tech startups that have raised at least 1 Million dollars',\n",
    "                4:'Executives like Starbucks A LOT. Ensure there s a starbucks not too far.',\n",
    "                5:'Account managers need to travel a lot.',\n",
    "                6:'Everyone in the company is between 25 and 40, give them some place to go party',\n",
    "                7:'The CEO is vegan',\n",
    "                8:'If you want to make the maintenance guy happy, a basketball stadium must be around 10 Km.',\n",
    "                9:'The office dog—Dobby needs a hairdresser every month. Ensure there is one not too far away.'} \n"
   ]
  },
  {
   "cell_type": "code",
   "execution_count": 83,
   "id": "24a1dc65",
   "metadata": {},
   "outputs": [],
   "source": [
    "presonal_criteria = {'Designers':[1, 2, 6, 9],\n",
    "                'UI/UX Engineers':[2, 6, 9],\n",
    "                'Frontend Developers':[2, 3, 6, 9],\n",
    "                'Data Engineers':[2, 6, 9],\n",
    "                'Backend Developers':[2, 3, 6, 9],\n",
    "                'Account Managers':[2, 5, 6, 9],\n",
    "                'Maintenance guy':[2, 6, 8, 9],\n",
    "                'Executives':[2, 4, 6, 9],\n",
    "                'CEO/President':[2, 6, 7, 9]} "
   ]
  },
  {
   "cell_type": "code",
   "execution_count": 102,
   "id": "8f09c610",
   "metadata": {},
   "outputs": [],
   "source": [
    "offices={'Centro': 'Calle de Preciados, 27, 28013, Madrid',\n",
    "        'Arganzuela':'Calle del Plomo, 10, 28045, Madrid',\n",
    "        'Retiro': \"Calle de Menorca, 6, 28009 Madrid\",\n",
    "        'Salamanca': 'Calle Serrano, 52, 28001, Madrid',\n",
    "        'Chamartín': 'Avenida de Alberto Alcocer, 43, 28036 Madrid',\n",
    "        'Tetuán': 'Calle de Emilia, 12-18, 28029 Madrid',\n",
    "        'Chamberí':'Avenida de Filipinas, 7, 28003, Madrid',\n",
    "        'Fuencarral-El Pardo': 'Calle de Fermín Caballero, 27, 28034, Madrid', \n",
    "        'Moncloa': 'Calle de Altamirano, 29, 28008, Madrid',\n",
    "        'Latina': 'Calle Sepúlveda, 21, 28011 Madrid', \n",
    "        'Carabanchel':'Calle Besolla, 10, 28025 Madrid', \n",
    "        'Usera': 'Calle Mirasierra, 23, 28026 Madrid',\n",
    "        'Puente de Vallecas': 'Avenida de Buenos Aires, 7, 28018, Madrid', \n",
    "        'Moratalaz': 'Calle del Arroyo Belincoso, 36, 28030 Madrid',\n",
    "        'Ciudad Lineal': 'Calle de Alcalá, 242, 28027, Madrid',\n",
    "        'Hortaleza':'Gran Vía de Hortaleza, 74, 28043, Madrid',\n",
    "        'Villaverde':'Calle de la Resina, 10, 28021, Madrid',\n",
    "        'Villa de Vallecas':'Calle Juan Antonio Bardem, 6, 28031, Madrid',\n",
    "        'Vicálvaro':'Avenida de la Gran Vía del Este, 20, 28032, Madrid',\n",
    "        'San Blas': 'Calle de Arturo Soria, 14, 28027 Madrid',\n",
    "        'Barajas': 'Avenida de Logroño, 223, 28042, Madrid'\n",
    "       }"
   ]
  },
  {
   "cell_type": "code",
   "execution_count": 103,
   "id": "56eb1c24",
   "metadata": {},
   "outputs": [
    {
     "data": {
      "text/plain": [
       "dict_keys(['Centro', 'Arganzuela', 'Retiro', 'Salamanca', 'Chamartín', 'Tetuán', 'Chamberí', 'Fuencarral-El Pardo', 'Moncloa', 'Latina', 'Carabanchel', 'Usera', 'Puente de Vallecas', 'Moratalaz', 'Ciudad Lineal', 'Hortaleza', 'Villaverde', 'Villa de Vallecas', 'Vicálvaro', 'San Blas', 'Barajas'])"
      ]
     },
     "execution_count": 103,
     "metadata": {},
     "output_type": "execute_result"
    }
   ],
   "source": [
    "offices.keys()"
   ]
  },
  {
   "cell_type": "code",
   "execution_count": 104,
   "id": "6aadcb53",
   "metadata": {},
   "outputs": [],
   "source": [
    "personal = pd.DataFrame([personal_num, personal_code, presonal_criteria])"
   ]
  },
  {
   "cell_type": "code",
   "execution_count": 105,
   "id": "10a41869",
   "metadata": {},
   "outputs": [
    {
     "data": {
      "text/html": [
       "<div>\n",
       "<style scoped>\n",
       "    .dataframe tbody tr th:only-of-type {\n",
       "        vertical-align: middle;\n",
       "    }\n",
       "\n",
       "    .dataframe tbody tr th {\n",
       "        vertical-align: top;\n",
       "    }\n",
       "\n",
       "    .dataframe thead th {\n",
       "        text-align: right;\n",
       "    }\n",
       "</style>\n",
       "<table border=\"1\" class=\"dataframe\">\n",
       "  <thead>\n",
       "    <tr style=\"text-align: right;\">\n",
       "      <th></th>\n",
       "      <th>Designers</th>\n",
       "      <th>UI/UX Engineers</th>\n",
       "      <th>Frontend Developers</th>\n",
       "      <th>Data Engineers</th>\n",
       "      <th>Backend Developers</th>\n",
       "      <th>Account Managers</th>\n",
       "      <th>Maintenance guy</th>\n",
       "      <th>Executives</th>\n",
       "      <th>CEO/President</th>\n",
       "    </tr>\n",
       "  </thead>\n",
       "  <tbody>\n",
       "    <tr>\n",
       "      <th>0</th>\n",
       "      <td>20</td>\n",
       "      <td>5</td>\n",
       "      <td>10</td>\n",
       "      <td>15</td>\n",
       "      <td>5</td>\n",
       "      <td>20</td>\n",
       "      <td>1</td>\n",
       "      <td>10</td>\n",
       "      <td>1</td>\n",
       "    </tr>\n",
       "    <tr>\n",
       "      <th>1</th>\n",
       "      <td>1</td>\n",
       "      <td>2</td>\n",
       "      <td>3</td>\n",
       "      <td>4</td>\n",
       "      <td>5</td>\n",
       "      <td>6</td>\n",
       "      <td>7</td>\n",
       "      <td>8</td>\n",
       "      <td>9</td>\n",
       "    </tr>\n",
       "    <tr>\n",
       "      <th>2</th>\n",
       "      <td>[1, 2, 6, 9]</td>\n",
       "      <td>[2, 6, 9]</td>\n",
       "      <td>[2, 3, 6, 9]</td>\n",
       "      <td>[2, 6, 9]</td>\n",
       "      <td>[2, 3, 6, 9]</td>\n",
       "      <td>[2, 5, 6, 9]</td>\n",
       "      <td>[2, 6, 8, 9]</td>\n",
       "      <td>[2, 4, 6, 9]</td>\n",
       "      <td>[2, 6, 7, 9]</td>\n",
       "    </tr>\n",
       "  </tbody>\n",
       "</table>\n",
       "</div>"
      ],
      "text/plain": [
       "      Designers UI/UX Engineers Frontend Developers Data Engineers  \\\n",
       "0            20               5                  10             15   \n",
       "1             1               2                   3              4   \n",
       "2  [1, 2, 6, 9]       [2, 6, 9]        [2, 3, 6, 9]      [2, 6, 9]   \n",
       "\n",
       "  Backend Developers Account Managers Maintenance guy    Executives  \\\n",
       "0                  5               20               1            10   \n",
       "1                  5                6               7             8   \n",
       "2       [2, 3, 6, 9]     [2, 5, 6, 9]    [2, 6, 8, 9]  [2, 4, 6, 9]   \n",
       "\n",
       "  CEO/President  \n",
       "0             1  \n",
       "1             9  \n",
       "2  [2, 6, 7, 9]  "
      ]
     },
     "execution_count": 105,
     "metadata": {},
     "output_type": "execute_result"
    }
   ],
   "source": [
    "personal\n"
   ]
  },
  {
   "cell_type": "code",
   "execution_count": 106,
   "id": "334bb74c",
   "metadata": {},
   "outputs": [],
   "source": [
    "offices_df = pd.DataFrame.from_dict(offices, orient= 'index', columns = ['adress'])"
   ]
  },
  {
   "cell_type": "code",
   "execution_count": 107,
   "id": "d2b1fef0",
   "metadata": {},
   "outputs": [],
   "source": [
    "def slicedic(d,l,h):\n",
    "    return dict(islice(d.items(), l, h))"
   ]
  },
  {
   "cell_type": "code",
   "execution_count": 108,
   "id": "312216c5",
   "metadata": {},
   "outputs": [
    {
     "data": {
      "text/plain": [
       "21"
      ]
     },
     "execution_count": 108,
     "metadata": {},
     "output_type": "execute_result"
    }
   ],
   "source": [
    "len(offices)"
   ]
  },
  {
   "cell_type": "code",
   "execution_count": 109,
   "id": "9ab60615",
   "metadata": {},
   "outputs": [],
   "source": [
    "d1 = slicedic(offices, 0, 4)\n",
    "d2 = slicedic(offices, 4, 8)\n",
    "d3 = slicedic(offices, 8, 12)\n",
    "d4 = slicedic(offices, 12,16)\n",
    "d5 = slicedic(offices, 16,21)\n"
   ]
  },
  {
   "cell_type": "code",
   "execution_count": 248,
   "id": "2706f550",
   "metadata": {},
   "outputs": [
    {
     "data": {
      "text/plain": [
       "21"
      ]
     },
     "execution_count": 248,
     "metadata": {},
     "output_type": "execute_result"
    }
   ],
   "source": [
    "s= len(d1) + len(d2) + len(d3) + len(d4) +len(d5)\n",
    "s"
   ]
  },
  {
   "cell_type": "code",
   "execution_count": 110,
   "id": "28f0ee74",
   "metadata": {},
   "outputs": [],
   "source": [
    "df1 = pd.DataFrame.from_dict(d1, orient= 'index', columns = ['adress'])\n",
    "df2 = pd.DataFrame.from_dict(d2, orient= 'index', columns = ['adress'])\n",
    "df3 = pd.DataFrame.from_dict(d3, orient= 'index', columns = ['adress'])\n",
    "df4 = pd.DataFrame.from_dict(d4, orient= 'index', columns = ['adress'])\n",
    "df5 = pd.DataFrame.from_dict(d5, orient= 'index', columns = ['adress'])"
   ]
  },
  {
   "cell_type": "code",
   "execution_count": 203,
   "id": "2105aca0",
   "metadata": {},
   "outputs": [],
   "source": [
    "def geocode(adress):\n",
    "    data = requests.get(f\"https://geocode.xyz/{adress}?json=1\").json()\n",
    "    time.sleep(3.45)\n",
    "    if 'success' in data:\n",
    "        return adress\n",
    "    else:\n",
    "        return data"
   ]
  },
  {
   "cell_type": "code",
   "execution_count": 209,
   "id": "f2400427",
   "metadata": {},
   "outputs": [],
   "source": [
    "def regeocode(adress):\n",
    "    if type(adress) == str:\n",
    "        return geocode(adress)\n",
    "    else:\n",
    "        return adress"
   ]
  },
  {
   "cell_type": "code",
   "execution_count": 210,
   "id": "d0896bd8",
   "metadata": {},
   "outputs": [
    {
     "data": {
      "text/html": [
       "<div>\n",
       "<style scoped>\n",
       "    .dataframe tbody tr th:only-of-type {\n",
       "        vertical-align: middle;\n",
       "    }\n",
       "\n",
       "    .dataframe tbody tr th {\n",
       "        vertical-align: top;\n",
       "    }\n",
       "\n",
       "    .dataframe thead th {\n",
       "        text-align: right;\n",
       "    }\n",
       "</style>\n",
       "<table border=\"1\" class=\"dataframe\">\n",
       "  <thead>\n",
       "    <tr style=\"text-align: right;\">\n",
       "      <th></th>\n",
       "      <th>adress</th>\n",
       "      <th>request</th>\n",
       "    </tr>\n",
       "  </thead>\n",
       "  <tbody>\n",
       "    <tr>\n",
       "      <th>Centro</th>\n",
       "      <td>Calle de Preciados, 27, 28013, Madrid</td>\n",
       "      <td>Calle de Preciados, 27, 28013, Madrid</td>\n",
       "    </tr>\n",
       "    <tr>\n",
       "      <th>Arganzuela</th>\n",
       "      <td>Calle del Plomo, 10, 28045, Madrid</td>\n",
       "      <td>{'standard': {'stnumber': '10', 'addresst': 'C...</td>\n",
       "    </tr>\n",
       "    <tr>\n",
       "      <th>Retiro</th>\n",
       "      <td>Calle de Menorca, 6, 28009 Madrid</td>\n",
       "      <td>{'standard': {'addresst': 'Calle De Menorca', ...</td>\n",
       "    </tr>\n",
       "    <tr>\n",
       "      <th>Salamanca</th>\n",
       "      <td>Calle Serrano, 52, 28001, Madrid</td>\n",
       "      <td>{'standard': {'stnumber': '52', 'addresst': 'C...</td>\n",
       "    </tr>\n",
       "  </tbody>\n",
       "</table>\n",
       "</div>"
      ],
      "text/plain": [
       "                                           adress  \\\n",
       "Centro      Calle de Preciados, 27, 28013, Madrid   \n",
       "Arganzuela     Calle del Plomo, 10, 28045, Madrid   \n",
       "Retiro          Calle de Menorca, 6, 28009 Madrid   \n",
       "Salamanca        Calle Serrano, 52, 28001, Madrid   \n",
       "\n",
       "                                                      request  \n",
       "Centro                  Calle de Preciados, 27, 28013, Madrid  \n",
       "Arganzuela  {'standard': {'stnumber': '10', 'addresst': 'C...  \n",
       "Retiro      {'standard': {'addresst': 'Calle De Menorca', ...  \n",
       "Salamanca   {'standard': {'stnumber': '52', 'addresst': 'C...  "
      ]
     },
     "execution_count": 210,
     "metadata": {},
     "output_type": "execute_result"
    }
   ],
   "source": [
    "df1['request'] = df1.adress.apply(geocode)\n",
    "df1"
   ]
  },
  {
   "cell_type": "code",
   "execution_count": 215,
   "id": "2af6e364",
   "metadata": {},
   "outputs": [
    {
     "data": {
      "text/html": [
       "<div>\n",
       "<style scoped>\n",
       "    .dataframe tbody tr th:only-of-type {\n",
       "        vertical-align: middle;\n",
       "    }\n",
       "\n",
       "    .dataframe tbody tr th {\n",
       "        vertical-align: top;\n",
       "    }\n",
       "\n",
       "    .dataframe thead th {\n",
       "        text-align: right;\n",
       "    }\n",
       "</style>\n",
       "<table border=\"1\" class=\"dataframe\">\n",
       "  <thead>\n",
       "    <tr style=\"text-align: right;\">\n",
       "      <th></th>\n",
       "      <th>adress</th>\n",
       "      <th>request</th>\n",
       "    </tr>\n",
       "  </thead>\n",
       "  <tbody>\n",
       "    <tr>\n",
       "      <th>Chamartín</th>\n",
       "      <td>Avenida de Alberto Alcocer, 43, 28036 Madrid</td>\n",
       "      <td>Avenida de Alberto Alcocer, 43, 28036 Madrid</td>\n",
       "    </tr>\n",
       "    <tr>\n",
       "      <th>Tetuán</th>\n",
       "      <td>Calle de Emilia, 12-18, 28029 Madrid</td>\n",
       "      <td>{'standard': {'stnumber': '19', 'addresst': 'C...</td>\n",
       "    </tr>\n",
       "    <tr>\n",
       "      <th>Chamberí</th>\n",
       "      <td>Avenida de Filipinas, 7, 28003, Madrid</td>\n",
       "      <td>{'standard': {'stnumber': '7', 'addresst': 'Av...</td>\n",
       "    </tr>\n",
       "    <tr>\n",
       "      <th>Fuencarral-El Pardo</th>\n",
       "      <td>Calle de Fermín Caballero, 27, 28034, Madrid</td>\n",
       "      <td>{'standard': {'addresst': 'Fermin Caballero', ...</td>\n",
       "    </tr>\n",
       "  </tbody>\n",
       "</table>\n",
       "</div>"
      ],
      "text/plain": [
       "                                                           adress  \\\n",
       "Chamartín            Avenida de Alberto Alcocer, 43, 28036 Madrid   \n",
       "Tetuán                       Calle de Emilia, 12-18, 28029 Madrid   \n",
       "Chamberí                   Avenida de Filipinas, 7, 28003, Madrid   \n",
       "Fuencarral-El Pardo  Calle de Fermín Caballero, 27, 28034, Madrid   \n",
       "\n",
       "                                                               request  \n",
       "Chamartín                 Avenida de Alberto Alcocer, 43, 28036 Madrid  \n",
       "Tetuán               {'standard': {'stnumber': '19', 'addresst': 'C...  \n",
       "Chamberí             {'standard': {'stnumber': '7', 'addresst': 'Av...  \n",
       "Fuencarral-El Pardo  {'standard': {'addresst': 'Fermin Caballero', ...  "
      ]
     },
     "execution_count": 215,
     "metadata": {},
     "output_type": "execute_result"
    }
   ],
   "source": [
    "df2['request'] = df2.adress.apply(geocode)\n",
    "df2"
   ]
  },
  {
   "cell_type": "code",
   "execution_count": 216,
   "id": "adb5fac4",
   "metadata": {},
   "outputs": [
    {
     "data": {
      "text/html": [
       "<div>\n",
       "<style scoped>\n",
       "    .dataframe tbody tr th:only-of-type {\n",
       "        vertical-align: middle;\n",
       "    }\n",
       "\n",
       "    .dataframe tbody tr th {\n",
       "        vertical-align: top;\n",
       "    }\n",
       "\n",
       "    .dataframe thead th {\n",
       "        text-align: right;\n",
       "    }\n",
       "</style>\n",
       "<table border=\"1\" class=\"dataframe\">\n",
       "  <thead>\n",
       "    <tr style=\"text-align: right;\">\n",
       "      <th></th>\n",
       "      <th>adress</th>\n",
       "      <th>request</th>\n",
       "    </tr>\n",
       "  </thead>\n",
       "  <tbody>\n",
       "    <tr>\n",
       "      <th>Moncloa</th>\n",
       "      <td>Calle de Altamirano, 29, 28008, Madrid</td>\n",
       "      <td>Calle de Altamirano, 29, 28008, Madrid</td>\n",
       "    </tr>\n",
       "    <tr>\n",
       "      <th>Latina</th>\n",
       "      <td>Calle Sepúlveda, 21, 28011 Madrid</td>\n",
       "      <td>{'standard': {'addresst': 'Calle Sepúlveda', '...</td>\n",
       "    </tr>\n",
       "    <tr>\n",
       "      <th>Carabanchel</th>\n",
       "      <td>Calle Besolla, 10, 28025 Madrid</td>\n",
       "      <td>{'standard': {'stnumber': '9', 'addresst': 'Be...</td>\n",
       "    </tr>\n",
       "    <tr>\n",
       "      <th>Usera</th>\n",
       "      <td>Calle Mirasierra, 23, 28026 Madrid</td>\n",
       "      <td>{'standard': {'stnumber': '23', 'addresst': 'M...</td>\n",
       "    </tr>\n",
       "  </tbody>\n",
       "</table>\n",
       "</div>"
      ],
      "text/plain": [
       "                                             adress  \\\n",
       "Moncloa      Calle de Altamirano, 29, 28008, Madrid   \n",
       "Latina            Calle Sepúlveda, 21, 28011 Madrid   \n",
       "Carabanchel         Calle Besolla, 10, 28025 Madrid   \n",
       "Usera            Calle Mirasierra, 23, 28026 Madrid   \n",
       "\n",
       "                                                       request  \n",
       "Moncloa                 Calle de Altamirano, 29, 28008, Madrid  \n",
       "Latina       {'standard': {'addresst': 'Calle Sepúlveda', '...  \n",
       "Carabanchel  {'standard': {'stnumber': '9', 'addresst': 'Be...  \n",
       "Usera        {'standard': {'stnumber': '23', 'addresst': 'M...  "
      ]
     },
     "execution_count": 216,
     "metadata": {},
     "output_type": "execute_result"
    }
   ],
   "source": [
    "df3['request'] = df3.adress.apply(geocode)\n",
    "df3"
   ]
  },
  {
   "cell_type": "code",
   "execution_count": 217,
   "id": "cbc8696a",
   "metadata": {},
   "outputs": [
    {
     "data": {
      "text/html": [
       "<div>\n",
       "<style scoped>\n",
       "    .dataframe tbody tr th:only-of-type {\n",
       "        vertical-align: middle;\n",
       "    }\n",
       "\n",
       "    .dataframe tbody tr th {\n",
       "        vertical-align: top;\n",
       "    }\n",
       "\n",
       "    .dataframe thead th {\n",
       "        text-align: right;\n",
       "    }\n",
       "</style>\n",
       "<table border=\"1\" class=\"dataframe\">\n",
       "  <thead>\n",
       "    <tr style=\"text-align: right;\">\n",
       "      <th></th>\n",
       "      <th>adress</th>\n",
       "      <th>request</th>\n",
       "    </tr>\n",
       "  </thead>\n",
       "  <tbody>\n",
       "    <tr>\n",
       "      <th>Puente de Vallecas</th>\n",
       "      <td>Avenida de Buenos Aires, 7, 28018, Madrid</td>\n",
       "      <td>Avenida de Buenos Aires, 7, 28018, Madrid</td>\n",
       "    </tr>\n",
       "    <tr>\n",
       "      <th>Moratalaz</th>\n",
       "      <td>Calle del Arroyo Belincoso, 36, 28030 Madrid</td>\n",
       "      <td>{'standard': {'stnumber': '38', 'addresst': 'C...</td>\n",
       "    </tr>\n",
       "    <tr>\n",
       "      <th>Ciudad Lineal</th>\n",
       "      <td>Calle de Alcalá, 242, 28027, Madrid</td>\n",
       "      <td>{'standard': {'addresst': '28027', 'city': 'Ma...</td>\n",
       "    </tr>\n",
       "    <tr>\n",
       "      <th>Hortaleza</th>\n",
       "      <td>Gran Vía de Hortaleza, 74, 28043, Madrid</td>\n",
       "      <td>{'standard': {'stnumber': '74', 'addresst': 'G...</td>\n",
       "    </tr>\n",
       "  </tbody>\n",
       "</table>\n",
       "</div>"
      ],
      "text/plain": [
       "                                                          adress  \\\n",
       "Puente de Vallecas     Avenida de Buenos Aires, 7, 28018, Madrid   \n",
       "Moratalaz           Calle del Arroyo Belincoso, 36, 28030 Madrid   \n",
       "Ciudad Lineal                Calle de Alcalá, 242, 28027, Madrid   \n",
       "Hortaleza               Gran Vía de Hortaleza, 74, 28043, Madrid   \n",
       "\n",
       "                                                              request  \n",
       "Puente de Vallecas          Avenida de Buenos Aires, 7, 28018, Madrid  \n",
       "Moratalaz           {'standard': {'stnumber': '38', 'addresst': 'C...  \n",
       "Ciudad Lineal       {'standard': {'addresst': '28027', 'city': 'Ma...  \n",
       "Hortaleza           {'standard': {'stnumber': '74', 'addresst': 'G...  "
      ]
     },
     "execution_count": 217,
     "metadata": {},
     "output_type": "execute_result"
    }
   ],
   "source": [
    "df4['request'] = df4.adress.apply(geocode)\n",
    "df4"
   ]
  },
  {
   "cell_type": "code",
   "execution_count": 218,
   "id": "31f5061c",
   "metadata": {},
   "outputs": [
    {
     "data": {
      "text/html": [
       "<div>\n",
       "<style scoped>\n",
       "    .dataframe tbody tr th:only-of-type {\n",
       "        vertical-align: middle;\n",
       "    }\n",
       "\n",
       "    .dataframe tbody tr th {\n",
       "        vertical-align: top;\n",
       "    }\n",
       "\n",
       "    .dataframe thead th {\n",
       "        text-align: right;\n",
       "    }\n",
       "</style>\n",
       "<table border=\"1\" class=\"dataframe\">\n",
       "  <thead>\n",
       "    <tr style=\"text-align: right;\">\n",
       "      <th></th>\n",
       "      <th>adress</th>\n",
       "      <th>request</th>\n",
       "    </tr>\n",
       "  </thead>\n",
       "  <tbody>\n",
       "    <tr>\n",
       "      <th>Villaverde</th>\n",
       "      <td>Calle de la Resina, 10, 28021, Madrid</td>\n",
       "      <td>{'standard': {'addresst': 'Calle De La Resina'...</td>\n",
       "    </tr>\n",
       "    <tr>\n",
       "      <th>Villa de Vallecas</th>\n",
       "      <td>Calle Juan Antonio Bardem, 6, 28031, Madrid</td>\n",
       "      <td>{'standard': {'stnumber': '6', 'addresst': 'Ju...</td>\n",
       "    </tr>\n",
       "    <tr>\n",
       "      <th>Vicálvaro</th>\n",
       "      <td>Avenida de la Gran Vía del Este, 20, 28032, Ma...</td>\n",
       "      <td>{'standard': {'stnumber': '80', 'addresst': 'A...</td>\n",
       "    </tr>\n",
       "    <tr>\n",
       "      <th>San Blas</th>\n",
       "      <td>Calle de Arturo Soria, 14, 28027 Madrid</td>\n",
       "      <td>{'standard': {'stnumber': '14', 'addresst': 'C...</td>\n",
       "    </tr>\n",
       "    <tr>\n",
       "      <th>Barajas</th>\n",
       "      <td>Avenida de Logroño, 223, 28042, Madrid</td>\n",
       "      <td>{'standard': {'stnumber': '179', 'addresst': '...</td>\n",
       "    </tr>\n",
       "  </tbody>\n",
       "</table>\n",
       "</div>"
      ],
      "text/plain": [
       "                                                              adress  \\\n",
       "Villaverde                     Calle de la Resina, 10, 28021, Madrid   \n",
       "Villa de Vallecas        Calle Juan Antonio Bardem, 6, 28031, Madrid   \n",
       "Vicálvaro          Avenida de la Gran Vía del Este, 20, 28032, Ma...   \n",
       "San Blas                     Calle de Arturo Soria, 14, 28027 Madrid   \n",
       "Barajas                       Avenida de Logroño, 223, 28042, Madrid   \n",
       "\n",
       "                                                             request  \n",
       "Villaverde         {'standard': {'addresst': 'Calle De La Resina'...  \n",
       "Villa de Vallecas  {'standard': {'stnumber': '6', 'addresst': 'Ju...  \n",
       "Vicálvaro          {'standard': {'stnumber': '80', 'addresst': 'A...  \n",
       "San Blas           {'standard': {'stnumber': '14', 'addresst': 'C...  \n",
       "Barajas            {'standard': {'stnumber': '179', 'addresst': '...  "
      ]
     },
     "execution_count": 218,
     "metadata": {},
     "output_type": "execute_result"
    }
   ],
   "source": [
    "df5['request'] = df5.adress.apply(geocode)\n",
    "df5"
   ]
  },
  {
   "cell_type": "code",
   "execution_count": 257,
   "id": "0303469f",
   "metadata": {},
   "outputs": [
    {
     "data": {
      "text/html": [
       "<div>\n",
       "<style scoped>\n",
       "    .dataframe tbody tr th:only-of-type {\n",
       "        vertical-align: middle;\n",
       "    }\n",
       "\n",
       "    .dataframe tbody tr th {\n",
       "        vertical-align: top;\n",
       "    }\n",
       "\n",
       "    .dataframe thead th {\n",
       "        text-align: right;\n",
       "    }\n",
       "</style>\n",
       "<table border=\"1\" class=\"dataframe\">\n",
       "  <thead>\n",
       "    <tr style=\"text-align: right;\">\n",
       "      <th></th>\n",
       "      <th>adress</th>\n",
       "      <th>request</th>\n",
       "    </tr>\n",
       "  </thead>\n",
       "  <tbody>\n",
       "    <tr>\n",
       "      <th>Arganzuela</th>\n",
       "      <td>Calle del Plomo, 10, 28045, Madrid</td>\n",
       "      <td>{'standard': {'stnumber': '10', 'addresst': 'C...</td>\n",
       "    </tr>\n",
       "    <tr>\n",
       "      <th>Retiro</th>\n",
       "      <td>Calle de Menorca, 6, 28009 Madrid</td>\n",
       "      <td>{'standard': {'addresst': 'Calle De Menorca', ...</td>\n",
       "    </tr>\n",
       "    <tr>\n",
       "      <th>Salamanca</th>\n",
       "      <td>Calle Serrano, 52, 28001, Madrid</td>\n",
       "      <td>{'standard': {'stnumber': '52', 'addresst': 'C...</td>\n",
       "    </tr>\n",
       "    <tr>\n",
       "      <th>Tetuán</th>\n",
       "      <td>Calle de Emilia, 12-18, 28029 Madrid</td>\n",
       "      <td>{'standard': {'stnumber': '19', 'addresst': 'C...</td>\n",
       "    </tr>\n",
       "    <tr>\n",
       "      <th>Chamberí</th>\n",
       "      <td>Avenida de Filipinas, 7, 28003, Madrid</td>\n",
       "      <td>{'standard': {'stnumber': '7', 'addresst': 'Av...</td>\n",
       "    </tr>\n",
       "    <tr>\n",
       "      <th>Fuencarral-El Pardo</th>\n",
       "      <td>Calle de Fermín Caballero, 27, 28034, Madrid</td>\n",
       "      <td>{'standard': {'addresst': 'Fermin Caballero', ...</td>\n",
       "    </tr>\n",
       "    <tr>\n",
       "      <th>Latina</th>\n",
       "      <td>Calle Sepúlveda, 21, 28011 Madrid</td>\n",
       "      <td>{'standard': {'addresst': 'Calle Sepúlveda', '...</td>\n",
       "    </tr>\n",
       "    <tr>\n",
       "      <th>Carabanchel</th>\n",
       "      <td>Calle Besolla, 10, 28025 Madrid</td>\n",
       "      <td>{'standard': {'stnumber': '9', 'addresst': 'Be...</td>\n",
       "    </tr>\n",
       "    <tr>\n",
       "      <th>Usera</th>\n",
       "      <td>Calle Mirasierra, 23, 28026 Madrid</td>\n",
       "      <td>{'standard': {'stnumber': '23', 'addresst': 'M...</td>\n",
       "    </tr>\n",
       "    <tr>\n",
       "      <th>Moratalaz</th>\n",
       "      <td>Calle del Arroyo Belincoso, 36, 28030 Madrid</td>\n",
       "      <td>{'standard': {'stnumber': '38', 'addresst': 'C...</td>\n",
       "    </tr>\n",
       "    <tr>\n",
       "      <th>Ciudad Lineal</th>\n",
       "      <td>Calle de Alcalá, 242, 28027, Madrid</td>\n",
       "      <td>{'standard': {'addresst': '28027', 'city': 'Ma...</td>\n",
       "    </tr>\n",
       "    <tr>\n",
       "      <th>Hortaleza</th>\n",
       "      <td>Gran Vía de Hortaleza, 74, 28043, Madrid</td>\n",
       "      <td>{'standard': {'stnumber': '74', 'addresst': 'G...</td>\n",
       "    </tr>\n",
       "    <tr>\n",
       "      <th>Villaverde</th>\n",
       "      <td>Calle de la Resina, 10, 28021, Madrid</td>\n",
       "      <td>{'standard': {'addresst': 'Calle De La Resina'...</td>\n",
       "    </tr>\n",
       "    <tr>\n",
       "      <th>Villa de Vallecas</th>\n",
       "      <td>Calle Juan Antonio Bardem, 6, 28031, Madrid</td>\n",
       "      <td>{'standard': {'stnumber': '6', 'addresst': 'Ju...</td>\n",
       "    </tr>\n",
       "    <tr>\n",
       "      <th>Vicálvaro</th>\n",
       "      <td>Avenida de la Gran Vía del Este, 20, 28032, Ma...</td>\n",
       "      <td>{'standard': {'stnumber': '80', 'addresst': 'A...</td>\n",
       "    </tr>\n",
       "    <tr>\n",
       "      <th>San Blas</th>\n",
       "      <td>Calle de Arturo Soria, 14, 28027 Madrid</td>\n",
       "      <td>{'standard': {'stnumber': '14', 'addresst': 'C...</td>\n",
       "    </tr>\n",
       "    <tr>\n",
       "      <th>Barajas</th>\n",
       "      <td>Avenida de Logroño, 223, 28042, Madrid</td>\n",
       "      <td>{'standard': {'stnumber': '179', 'addresst': '...</td>\n",
       "    </tr>\n",
       "  </tbody>\n",
       "</table>\n",
       "</div>"
      ],
      "text/plain": [
       "                                                                adress  \\\n",
       "Arganzuela                          Calle del Plomo, 10, 28045, Madrid   \n",
       "Retiro                               Calle de Menorca, 6, 28009 Madrid   \n",
       "Salamanca                             Calle Serrano, 52, 28001, Madrid   \n",
       "Tetuán                            Calle de Emilia, 12-18, 28029 Madrid   \n",
       "Chamberí                        Avenida de Filipinas, 7, 28003, Madrid   \n",
       "Fuencarral-El Pardo       Calle de Fermín Caballero, 27, 28034, Madrid   \n",
       "Latina                               Calle Sepúlveda, 21, 28011 Madrid   \n",
       "Carabanchel                            Calle Besolla, 10, 28025 Madrid   \n",
       "Usera                               Calle Mirasierra, 23, 28026 Madrid   \n",
       "Moratalaz                 Calle del Arroyo Belincoso, 36, 28030 Madrid   \n",
       "Ciudad Lineal                      Calle de Alcalá, 242, 28027, Madrid   \n",
       "Hortaleza                     Gran Vía de Hortaleza, 74, 28043, Madrid   \n",
       "Villaverde                       Calle de la Resina, 10, 28021, Madrid   \n",
       "Villa de Vallecas          Calle Juan Antonio Bardem, 6, 28031, Madrid   \n",
       "Vicálvaro            Avenida de la Gran Vía del Este, 20, 28032, Ma...   \n",
       "San Blas                       Calle de Arturo Soria, 14, 28027 Madrid   \n",
       "Barajas                         Avenida de Logroño, 223, 28042, Madrid   \n",
       "\n",
       "                                                               request  \n",
       "Arganzuela           {'standard': {'stnumber': '10', 'addresst': 'C...  \n",
       "Retiro               {'standard': {'addresst': 'Calle De Menorca', ...  \n",
       "Salamanca            {'standard': {'stnumber': '52', 'addresst': 'C...  \n",
       "Tetuán               {'standard': {'stnumber': '19', 'addresst': 'C...  \n",
       "Chamberí             {'standard': {'stnumber': '7', 'addresst': 'Av...  \n",
       "Fuencarral-El Pardo  {'standard': {'addresst': 'Fermin Caballero', ...  \n",
       "Latina               {'standard': {'addresst': 'Calle Sepúlveda', '...  \n",
       "Carabanchel          {'standard': {'stnumber': '9', 'addresst': 'Be...  \n",
       "Usera                {'standard': {'stnumber': '23', 'addresst': 'M...  \n",
       "Moratalaz            {'standard': {'stnumber': '38', 'addresst': 'C...  \n",
       "Ciudad Lineal        {'standard': {'addresst': '28027', 'city': 'Ma...  \n",
       "Hortaleza            {'standard': {'stnumber': '74', 'addresst': 'G...  \n",
       "Villaverde           {'standard': {'addresst': 'Calle De La Resina'...  \n",
       "Villa de Vallecas    {'standard': {'stnumber': '6', 'addresst': 'Ju...  \n",
       "Vicálvaro            {'standard': {'stnumber': '80', 'addresst': 'A...  \n",
       "San Blas             {'standard': {'stnumber': '14', 'addresst': 'C...  \n",
       "Barajas              {'standard': {'stnumber': '179', 'addresst': '...  "
      ]
     },
     "execution_count": 257,
     "metadata": {},
     "output_type": "execute_result"
    }
   ],
   "source": [
    "df_lim1 = df1.iloc[1:]\n",
    "df_lim1 = df_lim1.append(df2.iloc[1:])\n",
    "df_lim1 = df_lim1.append(df3.iloc[1:])\n",
    "df_lim1 = df_lim1.append(df4.iloc[1:])\n",
    "df_lim1 = df_lim1.append(df5)\n",
    "\n",
    "df_lim1"
   ]
  },
  {
   "cell_type": "code",
   "execution_count": 258,
   "id": "c544280e",
   "metadata": {},
   "outputs": [
    {
     "data": {
      "text/plain": [
       "17"
      ]
     },
     "execution_count": 258,
     "metadata": {},
     "output_type": "execute_result"
    }
   ],
   "source": [
    "len(df_lim1)"
   ]
  },
  {
   "cell_type": "code",
   "execution_count": 259,
   "id": "e71edaf4",
   "metadata": {},
   "outputs": [],
   "source": [
    "ofiserror = {\n",
    "         'Centro': 'Calle de Preciados, 27, 28013, Madrid',\n",
    "        'Chamartín': 'Avenida de Alberto Alcocer, 43, 28036 Madrid',\n",
    "        'Moncloa': 'Calle de Altamirano, 29, 28008, Madrid', \n",
    "        'Puente de Vallecas': 'Avenida de Buenos Aires, 7, 28018, Madrid', \n",
    "       }"
   ]
  },
  {
   "cell_type": "code",
   "execution_count": null,
   "id": "be748365",
   "metadata": {},
   "outputs": [],
   "source": []
  },
  {
   "cell_type": "code",
   "execution_count": 260,
   "id": "9dfa0371",
   "metadata": {},
   "outputs": [
    {
     "data": {
      "text/html": [
       "<div>\n",
       "<style scoped>\n",
       "    .dataframe tbody tr th:only-of-type {\n",
       "        vertical-align: middle;\n",
       "    }\n",
       "\n",
       "    .dataframe tbody tr th {\n",
       "        vertical-align: top;\n",
       "    }\n",
       "\n",
       "    .dataframe thead th {\n",
       "        text-align: right;\n",
       "    }\n",
       "</style>\n",
       "<table border=\"1\" class=\"dataframe\">\n",
       "  <thead>\n",
       "    <tr style=\"text-align: right;\">\n",
       "      <th></th>\n",
       "      <th>adress</th>\n",
       "    </tr>\n",
       "  </thead>\n",
       "  <tbody>\n",
       "    <tr>\n",
       "      <th>Centro</th>\n",
       "      <td>Calle de Preciados, 27, 28013, Madrid</td>\n",
       "    </tr>\n",
       "    <tr>\n",
       "      <th>Chamartín</th>\n",
       "      <td>Avenida de Alberto Alcocer, 43, 28036 Madrid</td>\n",
       "    </tr>\n",
       "    <tr>\n",
       "      <th>Moncloa</th>\n",
       "      <td>Calle de Altamirano, 29, 28008, Madrid</td>\n",
       "    </tr>\n",
       "    <tr>\n",
       "      <th>Puente de Vallecas</th>\n",
       "      <td>Avenida de Buenos Aires, 7, 28018, Madrid</td>\n",
       "    </tr>\n",
       "  </tbody>\n",
       "</table>\n",
       "</div>"
      ],
      "text/plain": [
       "                                                          adress\n",
       "Centro                     Calle de Preciados, 27, 28013, Madrid\n",
       "Chamartín           Avenida de Alberto Alcocer, 43, 28036 Madrid\n",
       "Moncloa                   Calle de Altamirano, 29, 28008, Madrid\n",
       "Puente de Vallecas     Avenida de Buenos Aires, 7, 28018, Madrid"
      ]
     },
     "execution_count": 260,
     "metadata": {},
     "output_type": "execute_result"
    }
   ],
   "source": [
    "df_resto = pd.DataFrame.from_dict(ofiserror, orient= 'index', columns = ['adress'])\n",
    "df_resto"
   ]
  },
  {
   "cell_type": "code",
   "execution_count": 261,
   "id": "c383ed35",
   "metadata": {},
   "outputs": [
    {
     "data": {
      "text/html": [
       "<div>\n",
       "<style scoped>\n",
       "    .dataframe tbody tr th:only-of-type {\n",
       "        vertical-align: middle;\n",
       "    }\n",
       "\n",
       "    .dataframe tbody tr th {\n",
       "        vertical-align: top;\n",
       "    }\n",
       "\n",
       "    .dataframe thead th {\n",
       "        text-align: right;\n",
       "    }\n",
       "</style>\n",
       "<table border=\"1\" class=\"dataframe\">\n",
       "  <thead>\n",
       "    <tr style=\"text-align: right;\">\n",
       "      <th></th>\n",
       "      <th>adress</th>\n",
       "      <th>request</th>\n",
       "    </tr>\n",
       "  </thead>\n",
       "  <tbody>\n",
       "    <tr>\n",
       "      <th>Centro</th>\n",
       "      <td>Calle de Preciados, 27, 28013, Madrid</td>\n",
       "      <td>{'standard': {'stnumber': '27', 'addresst': 'P...</td>\n",
       "    </tr>\n",
       "    <tr>\n",
       "      <th>Chamartín</th>\n",
       "      <td>Avenida de Alberto Alcocer, 43, 28036 Madrid</td>\n",
       "      <td>{'standard': {'stnumber': '43', 'addresst': 'A...</td>\n",
       "    </tr>\n",
       "    <tr>\n",
       "      <th>Moncloa</th>\n",
       "      <td>Calle de Altamirano, 29, 28008, Madrid</td>\n",
       "      <td>{'standard': {'stnumber': '33', 'addresst': 'C...</td>\n",
       "    </tr>\n",
       "    <tr>\n",
       "      <th>Puente de Vallecas</th>\n",
       "      <td>Avenida de Buenos Aires, 7, 28018, Madrid</td>\n",
       "      <td>{'standard': {'addresst': 'Avenida De Buenos A...</td>\n",
       "    </tr>\n",
       "  </tbody>\n",
       "</table>\n",
       "</div>"
      ],
      "text/plain": [
       "                                                          adress  \\\n",
       "Centro                     Calle de Preciados, 27, 28013, Madrid   \n",
       "Chamartín           Avenida de Alberto Alcocer, 43, 28036 Madrid   \n",
       "Moncloa                   Calle de Altamirano, 29, 28008, Madrid   \n",
       "Puente de Vallecas     Avenida de Buenos Aires, 7, 28018, Madrid   \n",
       "\n",
       "                                                              request  \n",
       "Centro              {'standard': {'stnumber': '27', 'addresst': 'P...  \n",
       "Chamartín           {'standard': {'stnumber': '43', 'addresst': 'A...  \n",
       "Moncloa             {'standard': {'stnumber': '33', 'addresst': 'C...  \n",
       "Puente de Vallecas  {'standard': {'addresst': 'Avenida De Buenos A...  "
      ]
     },
     "execution_count": 261,
     "metadata": {},
     "output_type": "execute_result"
    }
   ],
   "source": [
    "df_resto['request'] = df_resto.adress.apply(geocode)\n",
    "df_resto"
   ]
  },
  {
   "cell_type": "code",
   "execution_count": 262,
   "id": "5b58c100",
   "metadata": {},
   "outputs": [],
   "source": [
    "df_lim2 = df_lim1"
   ]
  },
  {
   "cell_type": "code",
   "execution_count": 263,
   "id": "caa3a431",
   "metadata": {},
   "outputs": [
    {
     "data": {
      "text/html": [
       "<div>\n",
       "<style scoped>\n",
       "    .dataframe tbody tr th:only-of-type {\n",
       "        vertical-align: middle;\n",
       "    }\n",
       "\n",
       "    .dataframe tbody tr th {\n",
       "        vertical-align: top;\n",
       "    }\n",
       "\n",
       "    .dataframe thead th {\n",
       "        text-align: right;\n",
       "    }\n",
       "</style>\n",
       "<table border=\"1\" class=\"dataframe\">\n",
       "  <thead>\n",
       "    <tr style=\"text-align: right;\">\n",
       "      <th></th>\n",
       "      <th>adress</th>\n",
       "      <th>request</th>\n",
       "    </tr>\n",
       "  </thead>\n",
       "  <tbody>\n",
       "    <tr>\n",
       "      <th>Arganzuela</th>\n",
       "      <td>Calle del Plomo, 10, 28045, Madrid</td>\n",
       "      <td>{'standard': {'stnumber': '10', 'addresst': 'C...</td>\n",
       "    </tr>\n",
       "    <tr>\n",
       "      <th>Retiro</th>\n",
       "      <td>Calle de Menorca, 6, 28009 Madrid</td>\n",
       "      <td>{'standard': {'addresst': 'Calle De Menorca', ...</td>\n",
       "    </tr>\n",
       "    <tr>\n",
       "      <th>Salamanca</th>\n",
       "      <td>Calle Serrano, 52, 28001, Madrid</td>\n",
       "      <td>{'standard': {'stnumber': '52', 'addresst': 'C...</td>\n",
       "    </tr>\n",
       "    <tr>\n",
       "      <th>Tetuán</th>\n",
       "      <td>Calle de Emilia, 12-18, 28029 Madrid</td>\n",
       "      <td>{'standard': {'stnumber': '19', 'addresst': 'C...</td>\n",
       "    </tr>\n",
       "    <tr>\n",
       "      <th>Chamberí</th>\n",
       "      <td>Avenida de Filipinas, 7, 28003, Madrid</td>\n",
       "      <td>{'standard': {'stnumber': '7', 'addresst': 'Av...</td>\n",
       "    </tr>\n",
       "    <tr>\n",
       "      <th>Fuencarral-El Pardo</th>\n",
       "      <td>Calle de Fermín Caballero, 27, 28034, Madrid</td>\n",
       "      <td>{'standard': {'addresst': 'Fermin Caballero', ...</td>\n",
       "    </tr>\n",
       "    <tr>\n",
       "      <th>Latina</th>\n",
       "      <td>Calle Sepúlveda, 21, 28011 Madrid</td>\n",
       "      <td>{'standard': {'addresst': 'Calle Sepúlveda', '...</td>\n",
       "    </tr>\n",
       "    <tr>\n",
       "      <th>Carabanchel</th>\n",
       "      <td>Calle Besolla, 10, 28025 Madrid</td>\n",
       "      <td>{'standard': {'stnumber': '9', 'addresst': 'Be...</td>\n",
       "    </tr>\n",
       "    <tr>\n",
       "      <th>Usera</th>\n",
       "      <td>Calle Mirasierra, 23, 28026 Madrid</td>\n",
       "      <td>{'standard': {'stnumber': '23', 'addresst': 'M...</td>\n",
       "    </tr>\n",
       "    <tr>\n",
       "      <th>Moratalaz</th>\n",
       "      <td>Calle del Arroyo Belincoso, 36, 28030 Madrid</td>\n",
       "      <td>{'standard': {'stnumber': '38', 'addresst': 'C...</td>\n",
       "    </tr>\n",
       "    <tr>\n",
       "      <th>Ciudad Lineal</th>\n",
       "      <td>Calle de Alcalá, 242, 28027, Madrid</td>\n",
       "      <td>{'standard': {'addresst': '28027', 'city': 'Ma...</td>\n",
       "    </tr>\n",
       "    <tr>\n",
       "      <th>Hortaleza</th>\n",
       "      <td>Gran Vía de Hortaleza, 74, 28043, Madrid</td>\n",
       "      <td>{'standard': {'stnumber': '74', 'addresst': 'G...</td>\n",
       "    </tr>\n",
       "    <tr>\n",
       "      <th>Villaverde</th>\n",
       "      <td>Calle de la Resina, 10, 28021, Madrid</td>\n",
       "      <td>{'standard': {'addresst': 'Calle De La Resina'...</td>\n",
       "    </tr>\n",
       "    <tr>\n",
       "      <th>Villa de Vallecas</th>\n",
       "      <td>Calle Juan Antonio Bardem, 6, 28031, Madrid</td>\n",
       "      <td>{'standard': {'stnumber': '6', 'addresst': 'Ju...</td>\n",
       "    </tr>\n",
       "    <tr>\n",
       "      <th>Vicálvaro</th>\n",
       "      <td>Avenida de la Gran Vía del Este, 20, 28032, Ma...</td>\n",
       "      <td>{'standard': {'stnumber': '80', 'addresst': 'A...</td>\n",
       "    </tr>\n",
       "    <tr>\n",
       "      <th>San Blas</th>\n",
       "      <td>Calle de Arturo Soria, 14, 28027 Madrid</td>\n",
       "      <td>{'standard': {'stnumber': '14', 'addresst': 'C...</td>\n",
       "    </tr>\n",
       "    <tr>\n",
       "      <th>Barajas</th>\n",
       "      <td>Avenida de Logroño, 223, 28042, Madrid</td>\n",
       "      <td>{'standard': {'stnumber': '179', 'addresst': '...</td>\n",
       "    </tr>\n",
       "  </tbody>\n",
       "</table>\n",
       "</div>"
      ],
      "text/plain": [
       "                                                                adress  \\\n",
       "Arganzuela                          Calle del Plomo, 10, 28045, Madrid   \n",
       "Retiro                               Calle de Menorca, 6, 28009 Madrid   \n",
       "Salamanca                             Calle Serrano, 52, 28001, Madrid   \n",
       "Tetuán                            Calle de Emilia, 12-18, 28029 Madrid   \n",
       "Chamberí                        Avenida de Filipinas, 7, 28003, Madrid   \n",
       "Fuencarral-El Pardo       Calle de Fermín Caballero, 27, 28034, Madrid   \n",
       "Latina                               Calle Sepúlveda, 21, 28011 Madrid   \n",
       "Carabanchel                            Calle Besolla, 10, 28025 Madrid   \n",
       "Usera                               Calle Mirasierra, 23, 28026 Madrid   \n",
       "Moratalaz                 Calle del Arroyo Belincoso, 36, 28030 Madrid   \n",
       "Ciudad Lineal                      Calle de Alcalá, 242, 28027, Madrid   \n",
       "Hortaleza                     Gran Vía de Hortaleza, 74, 28043, Madrid   \n",
       "Villaverde                       Calle de la Resina, 10, 28021, Madrid   \n",
       "Villa de Vallecas          Calle Juan Antonio Bardem, 6, 28031, Madrid   \n",
       "Vicálvaro            Avenida de la Gran Vía del Este, 20, 28032, Ma...   \n",
       "San Blas                       Calle de Arturo Soria, 14, 28027 Madrid   \n",
       "Barajas                         Avenida de Logroño, 223, 28042, Madrid   \n",
       "\n",
       "                                                               request  \n",
       "Arganzuela           {'standard': {'stnumber': '10', 'addresst': 'C...  \n",
       "Retiro               {'standard': {'addresst': 'Calle De Menorca', ...  \n",
       "Salamanca            {'standard': {'stnumber': '52', 'addresst': 'C...  \n",
       "Tetuán               {'standard': {'stnumber': '19', 'addresst': 'C...  \n",
       "Chamberí             {'standard': {'stnumber': '7', 'addresst': 'Av...  \n",
       "Fuencarral-El Pardo  {'standard': {'addresst': 'Fermin Caballero', ...  \n",
       "Latina               {'standard': {'addresst': 'Calle Sepúlveda', '...  \n",
       "Carabanchel          {'standard': {'stnumber': '9', 'addresst': 'Be...  \n",
       "Usera                {'standard': {'stnumber': '23', 'addresst': 'M...  \n",
       "Moratalaz            {'standard': {'stnumber': '38', 'addresst': 'C...  \n",
       "Ciudad Lineal        {'standard': {'addresst': '28027', 'city': 'Ma...  \n",
       "Hortaleza            {'standard': {'stnumber': '74', 'addresst': 'G...  \n",
       "Villaverde           {'standard': {'addresst': 'Calle De La Resina'...  \n",
       "Villa de Vallecas    {'standard': {'stnumber': '6', 'addresst': 'Ju...  \n",
       "Vicálvaro            {'standard': {'stnumber': '80', 'addresst': 'A...  \n",
       "San Blas             {'standard': {'stnumber': '14', 'addresst': 'C...  \n",
       "Barajas              {'standard': {'stnumber': '179', 'addresst': '...  "
      ]
     },
     "execution_count": 263,
     "metadata": {},
     "output_type": "execute_result"
    }
   ],
   "source": [
    "df_lim2"
   ]
  },
  {
   "cell_type": "code",
   "execution_count": 265,
   "id": "71571346",
   "metadata": {},
   "outputs": [
    {
     "data": {
      "text/plain": [
       "17"
      ]
     },
     "execution_count": 265,
     "metadata": {},
     "output_type": "execute_result"
    }
   ],
   "source": [
    "len(df_lim2)"
   ]
  },
  {
   "cell_type": "code",
   "execution_count": 266,
   "id": "b1fbb0e3",
   "metadata": {},
   "outputs": [],
   "source": [
    "df_def = df_lim2.drop_duplicates('adress')"
   ]
  },
  {
   "cell_type": "code",
   "execution_count": 267,
   "id": "78970f96",
   "metadata": {},
   "outputs": [
    {
     "data": {
      "text/html": [
       "<div>\n",
       "<style scoped>\n",
       "    .dataframe tbody tr th:only-of-type {\n",
       "        vertical-align: middle;\n",
       "    }\n",
       "\n",
       "    .dataframe tbody tr th {\n",
       "        vertical-align: top;\n",
       "    }\n",
       "\n",
       "    .dataframe thead th {\n",
       "        text-align: right;\n",
       "    }\n",
       "</style>\n",
       "<table border=\"1\" class=\"dataframe\">\n",
       "  <thead>\n",
       "    <tr style=\"text-align: right;\">\n",
       "      <th></th>\n",
       "      <th>adress</th>\n",
       "      <th>request</th>\n",
       "    </tr>\n",
       "  </thead>\n",
       "  <tbody>\n",
       "    <tr>\n",
       "      <th>Arganzuela</th>\n",
       "      <td>Calle del Plomo, 10, 28045, Madrid</td>\n",
       "      <td>{'standard': {'stnumber': '10', 'addresst': 'C...</td>\n",
       "    </tr>\n",
       "    <tr>\n",
       "      <th>Retiro</th>\n",
       "      <td>Calle de Menorca, 6, 28009 Madrid</td>\n",
       "      <td>{'standard': {'addresst': 'Calle De Menorca', ...</td>\n",
       "    </tr>\n",
       "    <tr>\n",
       "      <th>Salamanca</th>\n",
       "      <td>Calle Serrano, 52, 28001, Madrid</td>\n",
       "      <td>{'standard': {'stnumber': '52', 'addresst': 'C...</td>\n",
       "    </tr>\n",
       "    <tr>\n",
       "      <th>Tetuán</th>\n",
       "      <td>Calle de Emilia, 12-18, 28029 Madrid</td>\n",
       "      <td>{'standard': {'stnumber': '19', 'addresst': 'C...</td>\n",
       "    </tr>\n",
       "    <tr>\n",
       "      <th>Chamberí</th>\n",
       "      <td>Avenida de Filipinas, 7, 28003, Madrid</td>\n",
       "      <td>{'standard': {'stnumber': '7', 'addresst': 'Av...</td>\n",
       "    </tr>\n",
       "    <tr>\n",
       "      <th>Fuencarral-El Pardo</th>\n",
       "      <td>Calle de Fermín Caballero, 27, 28034, Madrid</td>\n",
       "      <td>{'standard': {'addresst': 'Fermin Caballero', ...</td>\n",
       "    </tr>\n",
       "    <tr>\n",
       "      <th>Latina</th>\n",
       "      <td>Calle Sepúlveda, 21, 28011 Madrid</td>\n",
       "      <td>{'standard': {'addresst': 'Calle Sepúlveda', '...</td>\n",
       "    </tr>\n",
       "    <tr>\n",
       "      <th>Carabanchel</th>\n",
       "      <td>Calle Besolla, 10, 28025 Madrid</td>\n",
       "      <td>{'standard': {'stnumber': '9', 'addresst': 'Be...</td>\n",
       "    </tr>\n",
       "    <tr>\n",
       "      <th>Usera</th>\n",
       "      <td>Calle Mirasierra, 23, 28026 Madrid</td>\n",
       "      <td>{'standard': {'stnumber': '23', 'addresst': 'M...</td>\n",
       "    </tr>\n",
       "    <tr>\n",
       "      <th>Moratalaz</th>\n",
       "      <td>Calle del Arroyo Belincoso, 36, 28030 Madrid</td>\n",
       "      <td>{'standard': {'stnumber': '38', 'addresst': 'C...</td>\n",
       "    </tr>\n",
       "    <tr>\n",
       "      <th>Ciudad Lineal</th>\n",
       "      <td>Calle de Alcalá, 242, 28027, Madrid</td>\n",
       "      <td>{'standard': {'addresst': '28027', 'city': 'Ma...</td>\n",
       "    </tr>\n",
       "    <tr>\n",
       "      <th>Hortaleza</th>\n",
       "      <td>Gran Vía de Hortaleza, 74, 28043, Madrid</td>\n",
       "      <td>{'standard': {'stnumber': '74', 'addresst': 'G...</td>\n",
       "    </tr>\n",
       "    <tr>\n",
       "      <th>Villaverde</th>\n",
       "      <td>Calle de la Resina, 10, 28021, Madrid</td>\n",
       "      <td>{'standard': {'addresst': 'Calle De La Resina'...</td>\n",
       "    </tr>\n",
       "    <tr>\n",
       "      <th>Villa de Vallecas</th>\n",
       "      <td>Calle Juan Antonio Bardem, 6, 28031, Madrid</td>\n",
       "      <td>{'standard': {'stnumber': '6', 'addresst': 'Ju...</td>\n",
       "    </tr>\n",
       "    <tr>\n",
       "      <th>Vicálvaro</th>\n",
       "      <td>Avenida de la Gran Vía del Este, 20, 28032, Ma...</td>\n",
       "      <td>{'standard': {'stnumber': '80', 'addresst': 'A...</td>\n",
       "    </tr>\n",
       "    <tr>\n",
       "      <th>San Blas</th>\n",
       "      <td>Calle de Arturo Soria, 14, 28027 Madrid</td>\n",
       "      <td>{'standard': {'stnumber': '14', 'addresst': 'C...</td>\n",
       "    </tr>\n",
       "    <tr>\n",
       "      <th>Barajas</th>\n",
       "      <td>Avenida de Logroño, 223, 28042, Madrid</td>\n",
       "      <td>{'standard': {'stnumber': '179', 'addresst': '...</td>\n",
       "    </tr>\n",
       "  </tbody>\n",
       "</table>\n",
       "</div>"
      ],
      "text/plain": [
       "                                                                adress  \\\n",
       "Arganzuela                          Calle del Plomo, 10, 28045, Madrid   \n",
       "Retiro                               Calle de Menorca, 6, 28009 Madrid   \n",
       "Salamanca                             Calle Serrano, 52, 28001, Madrid   \n",
       "Tetuán                            Calle de Emilia, 12-18, 28029 Madrid   \n",
       "Chamberí                        Avenida de Filipinas, 7, 28003, Madrid   \n",
       "Fuencarral-El Pardo       Calle de Fermín Caballero, 27, 28034, Madrid   \n",
       "Latina                               Calle Sepúlveda, 21, 28011 Madrid   \n",
       "Carabanchel                            Calle Besolla, 10, 28025 Madrid   \n",
       "Usera                               Calle Mirasierra, 23, 28026 Madrid   \n",
       "Moratalaz                 Calle del Arroyo Belincoso, 36, 28030 Madrid   \n",
       "Ciudad Lineal                      Calle de Alcalá, 242, 28027, Madrid   \n",
       "Hortaleza                     Gran Vía de Hortaleza, 74, 28043, Madrid   \n",
       "Villaverde                       Calle de la Resina, 10, 28021, Madrid   \n",
       "Villa de Vallecas          Calle Juan Antonio Bardem, 6, 28031, Madrid   \n",
       "Vicálvaro            Avenida de la Gran Vía del Este, 20, 28032, Ma...   \n",
       "San Blas                       Calle de Arturo Soria, 14, 28027 Madrid   \n",
       "Barajas                         Avenida de Logroño, 223, 28042, Madrid   \n",
       "\n",
       "                                                               request  \n",
       "Arganzuela           {'standard': {'stnumber': '10', 'addresst': 'C...  \n",
       "Retiro               {'standard': {'addresst': 'Calle De Menorca', ...  \n",
       "Salamanca            {'standard': {'stnumber': '52', 'addresst': 'C...  \n",
       "Tetuán               {'standard': {'stnumber': '19', 'addresst': 'C...  \n",
       "Chamberí             {'standard': {'stnumber': '7', 'addresst': 'Av...  \n",
       "Fuencarral-El Pardo  {'standard': {'addresst': 'Fermin Caballero', ...  \n",
       "Latina               {'standard': {'addresst': 'Calle Sepúlveda', '...  \n",
       "Carabanchel          {'standard': {'stnumber': '9', 'addresst': 'Be...  \n",
       "Usera                {'standard': {'stnumber': '23', 'addresst': 'M...  \n",
       "Moratalaz            {'standard': {'stnumber': '38', 'addresst': 'C...  \n",
       "Ciudad Lineal        {'standard': {'addresst': '28027', 'city': 'Ma...  \n",
       "Hortaleza            {'standard': {'stnumber': '74', 'addresst': 'G...  \n",
       "Villaverde           {'standard': {'addresst': 'Calle De La Resina'...  \n",
       "Villa de Vallecas    {'standard': {'stnumber': '6', 'addresst': 'Ju...  \n",
       "Vicálvaro            {'standard': {'stnumber': '80', 'addresst': 'A...  \n",
       "San Blas             {'standard': {'stnumber': '14', 'addresst': 'C...  \n",
       "Barajas              {'standard': {'stnumber': '179', 'addresst': '...  "
      ]
     },
     "execution_count": 267,
     "metadata": {},
     "output_type": "execute_result"
    }
   ],
   "source": [
    "df_def"
   ]
  },
  {
   "cell_type": "code",
   "execution_count": 268,
   "id": "69d5a13f",
   "metadata": {},
   "outputs": [
    {
     "data": {
      "text/plain": [
       "17"
      ]
     },
     "execution_count": 268,
     "metadata": {},
     "output_type": "execute_result"
    }
   ],
   "source": [
    "len(df_def)"
   ]
  },
  {
   "cell_type": "code",
   "execution_count": 244,
   "id": "ab2df0da",
   "metadata": {},
   "outputs": [
    {
     "data": {
      "text/plain": [
       "21"
      ]
     },
     "execution_count": 244,
     "metadata": {},
     "output_type": "execute_result"
    }
   ],
   "source": [
    "len(offices)"
   ]
  },
  {
   "cell_type": "code",
   "execution_count": 245,
   "id": "5a298132",
   "metadata": {},
   "outputs": [],
   "source": [
    "ces={'Centro': 'Calle de Preciados, 27, 28013, Madrid',\n",
    "        'Arganzuela':'Calle del Plomo, 10, 28045, Madrid',\n",
    "        'Retiro': \"Calle de Menorca, 6, 28009 Madrid\",\n",
    "        'Salamanca': 'Calle Serrano, 52, 28001, Madrid',\n",
    "        'Chamartín': 'Avenida de Alberto Alcocer, 43, 28036 Madrid',\n",
    "        'Tetuán': 'Calle de Emilia, 12-18, 28029 Madrid',\n",
    "        'Chamberí':'Avenida de Filipinas, 7, 28003, Madrid',\n",
    "        'Fuencarral-El Pardo': 'Calle de Fermín Caballero, 27, 28034, Madrid', \n",
    "        'Moncloa': 'Calle de Altamirano, 29, 28008, Madrid',\n",
    "        'Latina': 'Calle Sepúlveda, 21, 28011 Madrid', \n",
    "        'Carabanchel':'Calle Besolla, 10, 28025 Madrid', \n",
    "        'Usera': 'Calle Mirasierra, 23, 28026 Madrid',\n",
    "        'Puente de Vallecas': 'Avenida de Buenos Aires, 7, 28018, Madrid', \n",
    "        'Moratalaz': 'Calle del Arroyo Belincoso, 36, 28030 Madrid',\n",
    "        'Ciudad Lineal': 'Calle de Alcalá, 242, 28027, Madrid',\n",
    "        'Hortaleza':'Gran Vía de Hortaleza, 74, 28043, Madrid',\n",
    "        'Villaverde':'Calle de la Resina, 10, 28021, Madrid',\n",
    "        'Villa de Vallecas':'Calle Juan Antonio Bardem, 6, 28031, Madrid',\n",
    "        'Vicálvaro':'Avenida de la Gran Vía del Este, 20, 28032, Madrid',\n",
    "        'San Blas': 'Calle de Arturo Soria, 14, 28027 Madrid',\n",
    "        'Barajas': 'Avenida de Logroño, 223, 28042, Madrid'\n",
    "       }"
   ]
  },
  {
   "cell_type": "code",
   "execution_count": 271,
   "id": "f04cefec",
   "metadata": {},
   "outputs": [
    {
     "data": {
      "text/html": [
       "<div>\n",
       "<style scoped>\n",
       "    .dataframe tbody tr th:only-of-type {\n",
       "        vertical-align: middle;\n",
       "    }\n",
       "\n",
       "    .dataframe tbody tr th {\n",
       "        vertical-align: top;\n",
       "    }\n",
       "\n",
       "    .dataframe thead th {\n",
       "        text-align: right;\n",
       "    }\n",
       "</style>\n",
       "<table border=\"1\" class=\"dataframe\">\n",
       "  <thead>\n",
       "    <tr style=\"text-align: right;\">\n",
       "      <th></th>\n",
       "      <th>adress</th>\n",
       "      <th>request</th>\n",
       "    </tr>\n",
       "  </thead>\n",
       "  <tbody>\n",
       "    <tr>\n",
       "      <th>Arganzuela</th>\n",
       "      <td>Calle del Plomo, 10, 28045, Madrid</td>\n",
       "      <td>{'standard': {'stnumber': '10', 'addresst': 'C...</td>\n",
       "    </tr>\n",
       "    <tr>\n",
       "      <th>Retiro</th>\n",
       "      <td>Calle de Menorca, 6, 28009 Madrid</td>\n",
       "      <td>{'standard': {'addresst': 'Calle De Menorca', ...</td>\n",
       "    </tr>\n",
       "    <tr>\n",
       "      <th>Salamanca</th>\n",
       "      <td>Calle Serrano, 52, 28001, Madrid</td>\n",
       "      <td>{'standard': {'stnumber': '52', 'addresst': 'C...</td>\n",
       "    </tr>\n",
       "    <tr>\n",
       "      <th>Tetuán</th>\n",
       "      <td>Calle de Emilia, 12-18, 28029 Madrid</td>\n",
       "      <td>{'standard': {'stnumber': '19', 'addresst': 'C...</td>\n",
       "    </tr>\n",
       "    <tr>\n",
       "      <th>Chamberí</th>\n",
       "      <td>Avenida de Filipinas, 7, 28003, Madrid</td>\n",
       "      <td>{'standard': {'stnumber': '7', 'addresst': 'Av...</td>\n",
       "    </tr>\n",
       "    <tr>\n",
       "      <th>Fuencarral-El Pardo</th>\n",
       "      <td>Calle de Fermín Caballero, 27, 28034, Madrid</td>\n",
       "      <td>{'standard': {'addresst': 'Fermin Caballero', ...</td>\n",
       "    </tr>\n",
       "    <tr>\n",
       "      <th>Latina</th>\n",
       "      <td>Calle Sepúlveda, 21, 28011 Madrid</td>\n",
       "      <td>{'standard': {'addresst': 'Calle Sepúlveda', '...</td>\n",
       "    </tr>\n",
       "    <tr>\n",
       "      <th>Carabanchel</th>\n",
       "      <td>Calle Besolla, 10, 28025 Madrid</td>\n",
       "      <td>{'standard': {'stnumber': '9', 'addresst': 'Be...</td>\n",
       "    </tr>\n",
       "    <tr>\n",
       "      <th>Usera</th>\n",
       "      <td>Calle Mirasierra, 23, 28026 Madrid</td>\n",
       "      <td>{'standard': {'stnumber': '23', 'addresst': 'M...</td>\n",
       "    </tr>\n",
       "    <tr>\n",
       "      <th>Moratalaz</th>\n",
       "      <td>Calle del Arroyo Belincoso, 36, 28030 Madrid</td>\n",
       "      <td>{'standard': {'stnumber': '38', 'addresst': 'C...</td>\n",
       "    </tr>\n",
       "    <tr>\n",
       "      <th>Ciudad Lineal</th>\n",
       "      <td>Calle de Alcalá, 242, 28027, Madrid</td>\n",
       "      <td>{'standard': {'addresst': '28027', 'city': 'Ma...</td>\n",
       "    </tr>\n",
       "    <tr>\n",
       "      <th>Hortaleza</th>\n",
       "      <td>Gran Vía de Hortaleza, 74, 28043, Madrid</td>\n",
       "      <td>{'standard': {'stnumber': '74', 'addresst': 'G...</td>\n",
       "    </tr>\n",
       "    <tr>\n",
       "      <th>Villaverde</th>\n",
       "      <td>Calle de la Resina, 10, 28021, Madrid</td>\n",
       "      <td>{'standard': {'addresst': 'Calle De La Resina'...</td>\n",
       "    </tr>\n",
       "    <tr>\n",
       "      <th>Villa de Vallecas</th>\n",
       "      <td>Calle Juan Antonio Bardem, 6, 28031, Madrid</td>\n",
       "      <td>{'standard': {'stnumber': '6', 'addresst': 'Ju...</td>\n",
       "    </tr>\n",
       "    <tr>\n",
       "      <th>Vicálvaro</th>\n",
       "      <td>Avenida de la Gran Vía del Este, 20, 28032, Ma...</td>\n",
       "      <td>{'standard': {'stnumber': '80', 'addresst': 'A...</td>\n",
       "    </tr>\n",
       "    <tr>\n",
       "      <th>San Blas</th>\n",
       "      <td>Calle de Arturo Soria, 14, 28027 Madrid</td>\n",
       "      <td>{'standard': {'stnumber': '14', 'addresst': 'C...</td>\n",
       "    </tr>\n",
       "    <tr>\n",
       "      <th>Barajas</th>\n",
       "      <td>Avenida de Logroño, 223, 28042, Madrid</td>\n",
       "      <td>{'standard': {'stnumber': '179', 'addresst': '...</td>\n",
       "    </tr>\n",
       "    <tr>\n",
       "      <th>Centro</th>\n",
       "      <td>Calle de Preciados, 27, 28013, Madrid</td>\n",
       "      <td>{'standard': {'stnumber': '27', 'addresst': 'P...</td>\n",
       "    </tr>\n",
       "    <tr>\n",
       "      <th>Chamartín</th>\n",
       "      <td>Avenida de Alberto Alcocer, 43, 28036 Madrid</td>\n",
       "      <td>{'standard': {'stnumber': '43', 'addresst': 'A...</td>\n",
       "    </tr>\n",
       "    <tr>\n",
       "      <th>Moncloa</th>\n",
       "      <td>Calle de Altamirano, 29, 28008, Madrid</td>\n",
       "      <td>{'standard': {'stnumber': '33', 'addresst': 'C...</td>\n",
       "    </tr>\n",
       "    <tr>\n",
       "      <th>Puente de Vallecas</th>\n",
       "      <td>Avenida de Buenos Aires, 7, 28018, Madrid</td>\n",
       "      <td>{'standard': {'addresst': 'Avenida De Buenos A...</td>\n",
       "    </tr>\n",
       "  </tbody>\n",
       "</table>\n",
       "</div>"
      ],
      "text/plain": [
       "                                                                adress  \\\n",
       "Arganzuela                          Calle del Plomo, 10, 28045, Madrid   \n",
       "Retiro                               Calle de Menorca, 6, 28009 Madrid   \n",
       "Salamanca                             Calle Serrano, 52, 28001, Madrid   \n",
       "Tetuán                            Calle de Emilia, 12-18, 28029 Madrid   \n",
       "Chamberí                        Avenida de Filipinas, 7, 28003, Madrid   \n",
       "Fuencarral-El Pardo       Calle de Fermín Caballero, 27, 28034, Madrid   \n",
       "Latina                               Calle Sepúlveda, 21, 28011 Madrid   \n",
       "Carabanchel                            Calle Besolla, 10, 28025 Madrid   \n",
       "Usera                               Calle Mirasierra, 23, 28026 Madrid   \n",
       "Moratalaz                 Calle del Arroyo Belincoso, 36, 28030 Madrid   \n",
       "Ciudad Lineal                      Calle de Alcalá, 242, 28027, Madrid   \n",
       "Hortaleza                     Gran Vía de Hortaleza, 74, 28043, Madrid   \n",
       "Villaverde                       Calle de la Resina, 10, 28021, Madrid   \n",
       "Villa de Vallecas          Calle Juan Antonio Bardem, 6, 28031, Madrid   \n",
       "Vicálvaro            Avenida de la Gran Vía del Este, 20, 28032, Ma...   \n",
       "San Blas                       Calle de Arturo Soria, 14, 28027 Madrid   \n",
       "Barajas                         Avenida de Logroño, 223, 28042, Madrid   \n",
       "Centro                           Calle de Preciados, 27, 28013, Madrid   \n",
       "Chamartín                 Avenida de Alberto Alcocer, 43, 28036 Madrid   \n",
       "Moncloa                         Calle de Altamirano, 29, 28008, Madrid   \n",
       "Puente de Vallecas           Avenida de Buenos Aires, 7, 28018, Madrid   \n",
       "\n",
       "                                                               request  \n",
       "Arganzuela           {'standard': {'stnumber': '10', 'addresst': 'C...  \n",
       "Retiro               {'standard': {'addresst': 'Calle De Menorca', ...  \n",
       "Salamanca            {'standard': {'stnumber': '52', 'addresst': 'C...  \n",
       "Tetuán               {'standard': {'stnumber': '19', 'addresst': 'C...  \n",
       "Chamberí             {'standard': {'stnumber': '7', 'addresst': 'Av...  \n",
       "Fuencarral-El Pardo  {'standard': {'addresst': 'Fermin Caballero', ...  \n",
       "Latina               {'standard': {'addresst': 'Calle Sepúlveda', '...  \n",
       "Carabanchel          {'standard': {'stnumber': '9', 'addresst': 'Be...  \n",
       "Usera                {'standard': {'stnumber': '23', 'addresst': 'M...  \n",
       "Moratalaz            {'standard': {'stnumber': '38', 'addresst': 'C...  \n",
       "Ciudad Lineal        {'standard': {'addresst': '28027', 'city': 'Ma...  \n",
       "Hortaleza            {'standard': {'stnumber': '74', 'addresst': 'G...  \n",
       "Villaverde           {'standard': {'addresst': 'Calle De La Resina'...  \n",
       "Villa de Vallecas    {'standard': {'stnumber': '6', 'addresst': 'Ju...  \n",
       "Vicálvaro            {'standard': {'stnumber': '80', 'addresst': 'A...  \n",
       "San Blas             {'standard': {'stnumber': '14', 'addresst': 'C...  \n",
       "Barajas              {'standard': {'stnumber': '179', 'addresst': '...  \n",
       "Centro               {'standard': {'stnumber': '27', 'addresst': 'P...  \n",
       "Chamartín            {'standard': {'stnumber': '43', 'addresst': 'A...  \n",
       "Moncloa              {'standard': {'stnumber': '33', 'addresst': 'C...  \n",
       "Puente de Vallecas   {'standard': {'addresst': 'Avenida De Buenos A...  "
      ]
     },
     "execution_count": 271,
     "metadata": {},
     "output_type": "execute_result"
    }
   ],
   "source": [
    "df_limpio = df_def.append(df_resto)\n",
    "df_limpio"
   ]
  },
  {
   "cell_type": "code",
   "execution_count": 272,
   "id": "c6d8f814",
   "metadata": {},
   "outputs": [
    {
     "data": {
      "text/plain": [
       "21"
      ]
     },
     "execution_count": 272,
     "metadata": {},
     "output_type": "execute_result"
    }
   ],
   "source": [
    "len(df_limpio)"
   ]
  },
  {
   "cell_type": "code",
   "execution_count": 273,
   "id": "85535f15",
   "metadata": {},
   "outputs": [],
   "source": [
    "df_limpio.to_csv('../data/oficinasLibres.csv')"
   ]
  },
  {
   "cell_type": "code",
   "execution_count": 280,
   "id": "b9af7ac4",
   "metadata": {},
   "outputs": [],
   "source": [
    "df_lim_exp = df_limpio"
   ]
  },
  {
   "cell_type": "code",
   "execution_count": 287,
   "id": "a2433b38",
   "metadata": {},
   "outputs": [],
   "source": [
    "df_lim_exp = df_lim_exp.explode('request')"
   ]
  },
  {
   "cell_type": "code",
   "execution_count": 288,
   "id": "d4685337",
   "metadata": {},
   "outputs": [
    {
     "data": {
      "text/html": [
       "<div>\n",
       "<style scoped>\n",
       "    .dataframe tbody tr th:only-of-type {\n",
       "        vertical-align: middle;\n",
       "    }\n",
       "\n",
       "    .dataframe tbody tr th {\n",
       "        vertical-align: top;\n",
       "    }\n",
       "\n",
       "    .dataframe thead th {\n",
       "        text-align: right;\n",
       "    }\n",
       "</style>\n",
       "<table border=\"1\" class=\"dataframe\">\n",
       "  <thead>\n",
       "    <tr style=\"text-align: right;\">\n",
       "      <th></th>\n",
       "      <th>adress</th>\n",
       "      <th>request</th>\n",
       "    </tr>\n",
       "  </thead>\n",
       "  <tbody>\n",
       "    <tr>\n",
       "      <th>Arganzuela</th>\n",
       "      <td>Calle del Plomo, 10, 28045, Madrid</td>\n",
       "      <td>standard</td>\n",
       "    </tr>\n",
       "    <tr>\n",
       "      <th>Arganzuela</th>\n",
       "      <td>Calle del Plomo, 10, 28045, Madrid</td>\n",
       "      <td>longt</td>\n",
       "    </tr>\n",
       "    <tr>\n",
       "      <th>Arganzuela</th>\n",
       "      <td>Calle del Plomo, 10, 28045, Madrid</td>\n",
       "      <td>alt</td>\n",
       "    </tr>\n",
       "    <tr>\n",
       "      <th>Arganzuela</th>\n",
       "      <td>Calle del Plomo, 10, 28045, Madrid</td>\n",
       "      <td>elevation</td>\n",
       "    </tr>\n",
       "    <tr>\n",
       "      <th>Arganzuela</th>\n",
       "      <td>Calle del Plomo, 10, 28045, Madrid</td>\n",
       "      <td>latt</td>\n",
       "    </tr>\n",
       "    <tr>\n",
       "      <th>...</th>\n",
       "      <td>...</td>\n",
       "      <td>...</td>\n",
       "    </tr>\n",
       "    <tr>\n",
       "      <th>Puente de Vallecas</th>\n",
       "      <td>Avenida de Buenos Aires, 7, 28018, Madrid</td>\n",
       "      <td>standard</td>\n",
       "    </tr>\n",
       "    <tr>\n",
       "      <th>Puente de Vallecas</th>\n",
       "      <td>Avenida de Buenos Aires, 7, 28018, Madrid</td>\n",
       "      <td>longt</td>\n",
       "    </tr>\n",
       "    <tr>\n",
       "      <th>Puente de Vallecas</th>\n",
       "      <td>Avenida de Buenos Aires, 7, 28018, Madrid</td>\n",
       "      <td>alt</td>\n",
       "    </tr>\n",
       "    <tr>\n",
       "      <th>Puente de Vallecas</th>\n",
       "      <td>Avenida de Buenos Aires, 7, 28018, Madrid</td>\n",
       "      <td>elevation</td>\n",
       "    </tr>\n",
       "    <tr>\n",
       "      <th>Puente de Vallecas</th>\n",
       "      <td>Avenida de Buenos Aires, 7, 28018, Madrid</td>\n",
       "      <td>latt</td>\n",
       "    </tr>\n",
       "  </tbody>\n",
       "</table>\n",
       "<p>105 rows × 2 columns</p>\n",
       "</div>"
      ],
      "text/plain": [
       "                                                       adress    request\n",
       "Arganzuela                 Calle del Plomo, 10, 28045, Madrid   standard\n",
       "Arganzuela                 Calle del Plomo, 10, 28045, Madrid      longt\n",
       "Arganzuela                 Calle del Plomo, 10, 28045, Madrid        alt\n",
       "Arganzuela                 Calle del Plomo, 10, 28045, Madrid  elevation\n",
       "Arganzuela                 Calle del Plomo, 10, 28045, Madrid       latt\n",
       "...                                                       ...        ...\n",
       "Puente de Vallecas  Avenida de Buenos Aires, 7, 28018, Madrid   standard\n",
       "Puente de Vallecas  Avenida de Buenos Aires, 7, 28018, Madrid      longt\n",
       "Puente de Vallecas  Avenida de Buenos Aires, 7, 28018, Madrid        alt\n",
       "Puente de Vallecas  Avenida de Buenos Aires, 7, 28018, Madrid  elevation\n",
       "Puente de Vallecas  Avenida de Buenos Aires, 7, 28018, Madrid       latt\n",
       "\n",
       "[105 rows x 2 columns]"
      ]
     },
     "execution_count": 288,
     "metadata": {},
     "output_type": "execute_result"
    }
   ],
   "source": [
    "df_lim_exp"
   ]
  },
  {
   "cell_type": "code",
   "execution_count": 289,
   "id": "6b928b19",
   "metadata": {},
   "outputs": [],
   "source": [
    "df_explo = df_limpio"
   ]
  },
  {
   "cell_type": "code",
   "execution_count": 290,
   "id": "63c4e9e4",
   "metadata": {},
   "outputs": [],
   "source": [
    "df_explo = df_explo[[\"request\"]].apply(lambda x: x.request, result_type=\"expand\", axis=1)"
   ]
  },
  {
   "cell_type": "code",
   "execution_count": 296,
   "id": "aaec1fc0",
   "metadata": {},
   "outputs": [
    {
     "data": {
      "text/html": [
       "<div>\n",
       "<style scoped>\n",
       "    .dataframe tbody tr th:only-of-type {\n",
       "        vertical-align: middle;\n",
       "    }\n",
       "\n",
       "    .dataframe tbody tr th {\n",
       "        vertical-align: top;\n",
       "    }\n",
       "\n",
       "    .dataframe thead th {\n",
       "        text-align: right;\n",
       "    }\n",
       "</style>\n",
       "<table border=\"1\" class=\"dataframe\">\n",
       "  <thead>\n",
       "    <tr style=\"text-align: right;\">\n",
       "      <th></th>\n",
       "      <th>longt</th>\n",
       "      <th>latt</th>\n",
       "    </tr>\n",
       "  </thead>\n",
       "  <tbody>\n",
       "    <tr>\n",
       "      <th>Arganzuela</th>\n",
       "      <td>-3.68972</td>\n",
       "      <td>40.39238</td>\n",
       "    </tr>\n",
       "    <tr>\n",
       "      <th>Retiro</th>\n",
       "      <td>-3.67826</td>\n",
       "      <td>40.41964</td>\n",
       "    </tr>\n",
       "    <tr>\n",
       "      <th>Salamanca</th>\n",
       "      <td>-3.68721</td>\n",
       "      <td>40.42760</td>\n",
       "    </tr>\n",
       "    <tr>\n",
       "      <th>Tetuán</th>\n",
       "      <td>-3.69529</td>\n",
       "      <td>40.47004</td>\n",
       "    </tr>\n",
       "    <tr>\n",
       "      <th>Chamberí</th>\n",
       "      <td>-3.71014</td>\n",
       "      <td>40.44099</td>\n",
       "    </tr>\n",
       "    <tr>\n",
       "      <th>Fuencarral-El Pardo</th>\n",
       "      <td>-3.70367</td>\n",
       "      <td>40.48510</td>\n",
       "    </tr>\n",
       "    <tr>\n",
       "      <th>Latina</th>\n",
       "      <td>-3.74322</td>\n",
       "      <td>40.39355</td>\n",
       "    </tr>\n",
       "    <tr>\n",
       "      <th>Carabanchel</th>\n",
       "      <td>-3.73501</td>\n",
       "      <td>40.37663</td>\n",
       "    </tr>\n",
       "    <tr>\n",
       "      <th>Usera</th>\n",
       "      <td>-3.70595</td>\n",
       "      <td>40.38989</td>\n",
       "    </tr>\n",
       "    <tr>\n",
       "      <th>Moratalaz</th>\n",
       "      <td>-3.65223</td>\n",
       "      <td>40.41057</td>\n",
       "    </tr>\n",
       "    <tr>\n",
       "      <th>Ciudad Lineal</th>\n",
       "      <td>-3.63581</td>\n",
       "      <td>40.43875</td>\n",
       "    </tr>\n",
       "    <tr>\n",
       "      <th>Hortaleza</th>\n",
       "      <td>-3.64645</td>\n",
       "      <td>40.46817</td>\n",
       "    </tr>\n",
       "    <tr>\n",
       "      <th>Villaverde</th>\n",
       "      <td>-3.70396</td>\n",
       "      <td>40.33596</td>\n",
       "    </tr>\n",
       "    <tr>\n",
       "      <th>Villa de Vallecas</th>\n",
       "      <td>-3.59451</td>\n",
       "      <td>40.36813</td>\n",
       "    </tr>\n",
       "    <tr>\n",
       "      <th>Vicálvaro</th>\n",
       "      <td>-3.61868</td>\n",
       "      <td>40.38671</td>\n",
       "    </tr>\n",
       "    <tr>\n",
       "      <th>San Blas</th>\n",
       "      <td>-3.63880</td>\n",
       "      <td>40.43965</td>\n",
       "    </tr>\n",
       "    <tr>\n",
       "      <th>Barajas</th>\n",
       "      <td>-3.59395</td>\n",
       "      <td>40.46079</td>\n",
       "    </tr>\n",
       "    <tr>\n",
       "      <th>Centro</th>\n",
       "      <td>-3.70628</td>\n",
       "      <td>40.41956</td>\n",
       "    </tr>\n",
       "    <tr>\n",
       "      <th>Chamartín</th>\n",
       "      <td>-3.68044</td>\n",
       "      <td>40.45882</td>\n",
       "    </tr>\n",
       "    <tr>\n",
       "      <th>Moncloa</th>\n",
       "      <td>-3.72137</td>\n",
       "      <td>40.42978</td>\n",
       "    </tr>\n",
       "    <tr>\n",
       "      <th>Puente de Vallecas</th>\n",
       "      <td>-3.65323</td>\n",
       "      <td>40.38492</td>\n",
       "    </tr>\n",
       "  </tbody>\n",
       "</table>\n",
       "</div>"
      ],
      "text/plain": [
       "                        longt      latt\n",
       "Arganzuela           -3.68972  40.39238\n",
       "Retiro               -3.67826  40.41964\n",
       "Salamanca            -3.68721  40.42760\n",
       "Tetuán               -3.69529  40.47004\n",
       "Chamberí             -3.71014  40.44099\n",
       "Fuencarral-El Pardo  -3.70367  40.48510\n",
       "Latina               -3.74322  40.39355\n",
       "Carabanchel          -3.73501  40.37663\n",
       "Usera                -3.70595  40.38989\n",
       "Moratalaz            -3.65223  40.41057\n",
       "Ciudad Lineal        -3.63581  40.43875\n",
       "Hortaleza            -3.64645  40.46817\n",
       "Villaverde           -3.70396  40.33596\n",
       "Villa de Vallecas    -3.59451  40.36813\n",
       "Vicálvaro            -3.61868  40.38671\n",
       "San Blas             -3.63880  40.43965\n",
       "Barajas              -3.59395  40.46079\n",
       "Centro               -3.70628  40.41956\n",
       "Chamartín            -3.68044  40.45882\n",
       "Moncloa              -3.72137  40.42978\n",
       "Puente de Vallecas   -3.65323  40.38492"
      ]
     },
     "execution_count": 296,
     "metadata": {},
     "output_type": "execute_result"
    }
   ],
   "source": [
    "df_explo = df_explo.drop(['standard', 'alt', 'elevation'], axis=1)\n",
    "df_explo"
   ]
  },
  {
   "cell_type": "code",
   "execution_count": 297,
   "id": "0ca6c739",
   "metadata": {},
   "outputs": [],
   "source": [
    "df_explo.to_csv('../data/oficinasAlqCoord.csv')"
   ]
  },
  {
   "cell_type": "markdown",
   "id": "09dce1e6",
   "metadata": {},
   "source": [
    "# Pintamos todas la localizaciones de la oficinas disponibles en Madrid"
   ]
  },
  {
   "cell_type": "code",
   "execution_count": null,
   "id": "da8a12f2",
   "metadata": {},
   "outputs": [],
   "source": []
  },
  {
   "cell_type": "code",
   "execution_count": 298,
   "id": "791ef137",
   "metadata": {},
   "outputs": [],
   "source": [
    "inicial_lat = 40.4143851\n",
    "inicial_long = -3.6820241"
   ]
  },
  {
   "cell_type": "code",
   "execution_count": null,
   "id": "9670c666",
   "metadata": {},
   "outputs": [],
   "source": [
    "map_1 = folium.Map(location=[inicial_lat,inicial_long], zoom_start=12)\n",
    "map_1"
   ]
  },
  {
   "cell_type": "code",
   "execution_count": null,
   "id": "1dc1eccf",
   "metadata": {},
   "outputs": [],
   "source": []
  },
  {
   "cell_type": "code",
   "execution_count": null,
   "id": "224885b7",
   "metadata": {},
   "outputs": [],
   "source": []
  },
  {
   "cell_type": "code",
   "execution_count": null,
   "id": "94c85f2e",
   "metadata": {},
   "outputs": [],
   "source": []
  },
  {
   "cell_type": "code",
   "execution_count": null,
   "id": "108f4339",
   "metadata": {},
   "outputs": [],
   "source": []
  },
  {
   "cell_type": "code",
   "execution_count": null,
   "id": "eb8ac4cd",
   "metadata": {},
   "outputs": [],
   "source": [
    "pd.Series"
   ]
  },
  {
   "cell_type": "code",
   "execution_count": 286,
   "id": "69117f7d",
   "metadata": {},
   "outputs": [
    {
     "ename": "ValueError",
     "evalue": "Wrong number of items passed 2, placement implies 1",
     "output_type": "error",
     "traceback": [
      "\u001b[0;31m---------------------------------------------------------------------------\u001b[0m",
      "\u001b[0;31mKeyError\u001b[0m                                  Traceback (most recent call last)",
      "\u001b[0;32m~/miniconda3/envs/minimal_ds/lib/python3.9/site-packages/pandas/core/indexes/base.py\u001b[0m in \u001b[0;36mget_loc\u001b[0;34m(self, key, method, tolerance)\u001b[0m\n\u001b[1;32m   3360\u001b[0m             \u001b[0;32mtry\u001b[0m\u001b[0;34m:\u001b[0m\u001b[0;34m\u001b[0m\u001b[0;34m\u001b[0m\u001b[0m\n\u001b[0;32m-> 3361\u001b[0;31m                 \u001b[0;32mreturn\u001b[0m \u001b[0mself\u001b[0m\u001b[0;34m.\u001b[0m\u001b[0m_engine\u001b[0m\u001b[0;34m.\u001b[0m\u001b[0mget_loc\u001b[0m\u001b[0;34m(\u001b[0m\u001b[0mcasted_key\u001b[0m\u001b[0;34m)\u001b[0m\u001b[0;34m\u001b[0m\u001b[0;34m\u001b[0m\u001b[0m\n\u001b[0m\u001b[1;32m   3362\u001b[0m             \u001b[0;32mexcept\u001b[0m \u001b[0mKeyError\u001b[0m \u001b[0;32mas\u001b[0m \u001b[0merr\u001b[0m\u001b[0;34m:\u001b[0m\u001b[0;34m\u001b[0m\u001b[0;34m\u001b[0m\u001b[0m\n",
      "\u001b[0;32m~/miniconda3/envs/minimal_ds/lib/python3.9/site-packages/pandas/_libs/index.pyx\u001b[0m in \u001b[0;36mpandas._libs.index.IndexEngine.get_loc\u001b[0;34m()\u001b[0m\n",
      "\u001b[0;32m~/miniconda3/envs/minimal_ds/lib/python3.9/site-packages/pandas/_libs/index.pyx\u001b[0m in \u001b[0;36mpandas._libs.index.IndexEngine.get_loc\u001b[0;34m()\u001b[0m\n",
      "\u001b[0;32mpandas/_libs/hashtable_class_helper.pxi\u001b[0m in \u001b[0;36mpandas._libs.hashtable.PyObjectHashTable.get_item\u001b[0;34m()\u001b[0m\n",
      "\u001b[0;32mpandas/_libs/hashtable_class_helper.pxi\u001b[0m in \u001b[0;36mpandas._libs.hashtable.PyObjectHashTable.get_item\u001b[0;34m()\u001b[0m\n",
      "\u001b[0;31mKeyError\u001b[0m: 'latt'",
      "\nThe above exception was the direct cause of the following exception:\n",
      "\u001b[0;31mKeyError\u001b[0m                                  Traceback (most recent call last)",
      "\u001b[0;32m~/miniconda3/envs/minimal_ds/lib/python3.9/site-packages/pandas/core/frame.py\u001b[0m in \u001b[0;36m_set_item_mgr\u001b[0;34m(self, key, value)\u001b[0m\n\u001b[1;32m   3750\u001b[0m         \u001b[0;32mtry\u001b[0m\u001b[0;34m:\u001b[0m\u001b[0;34m\u001b[0m\u001b[0;34m\u001b[0m\u001b[0m\n\u001b[0;32m-> 3751\u001b[0;31m             \u001b[0mloc\u001b[0m \u001b[0;34m=\u001b[0m \u001b[0mself\u001b[0m\u001b[0;34m.\u001b[0m\u001b[0m_info_axis\u001b[0m\u001b[0;34m.\u001b[0m\u001b[0mget_loc\u001b[0m\u001b[0;34m(\u001b[0m\u001b[0mkey\u001b[0m\u001b[0;34m)\u001b[0m\u001b[0;34m\u001b[0m\u001b[0;34m\u001b[0m\u001b[0m\n\u001b[0m\u001b[1;32m   3752\u001b[0m         \u001b[0;32mexcept\u001b[0m \u001b[0mKeyError\u001b[0m\u001b[0;34m:\u001b[0m\u001b[0;34m\u001b[0m\u001b[0;34m\u001b[0m\u001b[0m\n",
      "\u001b[0;32m~/miniconda3/envs/minimal_ds/lib/python3.9/site-packages/pandas/core/indexes/base.py\u001b[0m in \u001b[0;36mget_loc\u001b[0;34m(self, key, method, tolerance)\u001b[0m\n\u001b[1;32m   3362\u001b[0m             \u001b[0;32mexcept\u001b[0m \u001b[0mKeyError\u001b[0m \u001b[0;32mas\u001b[0m \u001b[0merr\u001b[0m\u001b[0;34m:\u001b[0m\u001b[0;34m\u001b[0m\u001b[0;34m\u001b[0m\u001b[0m\n\u001b[0;32m-> 3363\u001b[0;31m                 \u001b[0;32mraise\u001b[0m \u001b[0mKeyError\u001b[0m\u001b[0;34m(\u001b[0m\u001b[0mkey\u001b[0m\u001b[0;34m)\u001b[0m \u001b[0;32mfrom\u001b[0m \u001b[0merr\u001b[0m\u001b[0;34m\u001b[0m\u001b[0;34m\u001b[0m\u001b[0m\n\u001b[0m\u001b[1;32m   3364\u001b[0m \u001b[0;34m\u001b[0m\u001b[0m\n",
      "\u001b[0;31mKeyError\u001b[0m: 'latt'",
      "\nDuring handling of the above exception, another exception occurred:\n",
      "\u001b[0;31mValueError\u001b[0m                                Traceback (most recent call last)",
      "\u001b[0;32m/tmp/ipykernel_6829/894372896.py\u001b[0m in \u001b[0;36m<module>\u001b[0;34m\u001b[0m\n\u001b[0;32m----> 1\u001b[0;31m \u001b[0mdf_lim_exp\u001b[0m\u001b[0;34m[\u001b[0m\u001b[0;34m'latt'\u001b[0m\u001b[0;34m]\u001b[0m \u001b[0;34m=\u001b[0m \u001b[0mdf_lim_exp\u001b[0m\u001b[0;34m.\u001b[0m\u001b[0mapply\u001b[0m\u001b[0;34m(\u001b[0m\u001b[0mpd\u001b[0m\u001b[0;34m.\u001b[0m\u001b[0mSeries\u001b[0m\u001b[0;34m)\u001b[0m\u001b[0;34m\u001b[0m\u001b[0;34m\u001b[0m\u001b[0m\n\u001b[0m",
      "\u001b[0;32m~/miniconda3/envs/minimal_ds/lib/python3.9/site-packages/pandas/core/frame.py\u001b[0m in \u001b[0;36m__setitem__\u001b[0;34m(self, key, value)\u001b[0m\n\u001b[1;32m   3600\u001b[0m             \u001b[0mself\u001b[0m\u001b[0;34m.\u001b[0m\u001b[0m_setitem_array\u001b[0m\u001b[0;34m(\u001b[0m\u001b[0mkey\u001b[0m\u001b[0;34m,\u001b[0m \u001b[0mvalue\u001b[0m\u001b[0;34m)\u001b[0m\u001b[0;34m\u001b[0m\u001b[0;34m\u001b[0m\u001b[0m\n\u001b[1;32m   3601\u001b[0m         \u001b[0;32melif\u001b[0m \u001b[0misinstance\u001b[0m\u001b[0;34m(\u001b[0m\u001b[0mvalue\u001b[0m\u001b[0;34m,\u001b[0m \u001b[0mDataFrame\u001b[0m\u001b[0;34m)\u001b[0m\u001b[0;34m:\u001b[0m\u001b[0;34m\u001b[0m\u001b[0;34m\u001b[0m\u001b[0m\n\u001b[0;32m-> 3602\u001b[0;31m             \u001b[0mself\u001b[0m\u001b[0;34m.\u001b[0m\u001b[0m_set_item_frame_value\u001b[0m\u001b[0;34m(\u001b[0m\u001b[0mkey\u001b[0m\u001b[0;34m,\u001b[0m \u001b[0mvalue\u001b[0m\u001b[0;34m)\u001b[0m\u001b[0;34m\u001b[0m\u001b[0;34m\u001b[0m\u001b[0m\n\u001b[0m\u001b[1;32m   3603\u001b[0m         elif (\n\u001b[1;32m   3604\u001b[0m             \u001b[0mis_list_like\u001b[0m\u001b[0;34m(\u001b[0m\u001b[0mvalue\u001b[0m\u001b[0;34m)\u001b[0m\u001b[0;34m\u001b[0m\u001b[0;34m\u001b[0m\u001b[0m\n",
      "\u001b[0;32m~/miniconda3/envs/minimal_ds/lib/python3.9/site-packages/pandas/core/frame.py\u001b[0m in \u001b[0;36m_set_item_frame_value\u001b[0;34m(self, key, value)\u001b[0m\n\u001b[1;32m   3740\u001b[0m         \u001b[0;31m# now align rows\u001b[0m\u001b[0;34m\u001b[0m\u001b[0;34m\u001b[0m\u001b[0m\n\u001b[1;32m   3741\u001b[0m         \u001b[0marraylike\u001b[0m \u001b[0;34m=\u001b[0m \u001b[0m_reindex_for_setitem\u001b[0m\u001b[0;34m(\u001b[0m\u001b[0mvalue\u001b[0m\u001b[0;34m,\u001b[0m \u001b[0mself\u001b[0m\u001b[0;34m.\u001b[0m\u001b[0mindex\u001b[0m\u001b[0;34m)\u001b[0m\u001b[0;34m\u001b[0m\u001b[0;34m\u001b[0m\u001b[0m\n\u001b[0;32m-> 3742\u001b[0;31m         \u001b[0mself\u001b[0m\u001b[0;34m.\u001b[0m\u001b[0m_set_item_mgr\u001b[0m\u001b[0;34m(\u001b[0m\u001b[0mkey\u001b[0m\u001b[0;34m,\u001b[0m \u001b[0marraylike\u001b[0m\u001b[0;34m)\u001b[0m\u001b[0;34m\u001b[0m\u001b[0;34m\u001b[0m\u001b[0m\n\u001b[0m\u001b[1;32m   3743\u001b[0m \u001b[0;34m\u001b[0m\u001b[0m\n\u001b[1;32m   3744\u001b[0m     \u001b[0;32mdef\u001b[0m \u001b[0m_iset_item_mgr\u001b[0m\u001b[0;34m(\u001b[0m\u001b[0mself\u001b[0m\u001b[0;34m,\u001b[0m \u001b[0mloc\u001b[0m\u001b[0;34m:\u001b[0m \u001b[0mint\u001b[0m \u001b[0;34m|\u001b[0m \u001b[0mslice\u001b[0m \u001b[0;34m|\u001b[0m \u001b[0mnp\u001b[0m\u001b[0;34m.\u001b[0m\u001b[0mndarray\u001b[0m\u001b[0;34m,\u001b[0m \u001b[0mvalue\u001b[0m\u001b[0;34m)\u001b[0m \u001b[0;34m->\u001b[0m \u001b[0;32mNone\u001b[0m\u001b[0;34m:\u001b[0m\u001b[0;34m\u001b[0m\u001b[0;34m\u001b[0m\u001b[0m\n",
      "\u001b[0;32m~/miniconda3/envs/minimal_ds/lib/python3.9/site-packages/pandas/core/frame.py\u001b[0m in \u001b[0;36m_set_item_mgr\u001b[0;34m(self, key, value)\u001b[0m\n\u001b[1;32m   3752\u001b[0m         \u001b[0;32mexcept\u001b[0m \u001b[0mKeyError\u001b[0m\u001b[0;34m:\u001b[0m\u001b[0;34m\u001b[0m\u001b[0;34m\u001b[0m\u001b[0m\n\u001b[1;32m   3753\u001b[0m             \u001b[0;31m# This item wasn't present, just insert at end\u001b[0m\u001b[0;34m\u001b[0m\u001b[0;34m\u001b[0m\u001b[0m\n\u001b[0;32m-> 3754\u001b[0;31m             \u001b[0mself\u001b[0m\u001b[0;34m.\u001b[0m\u001b[0m_mgr\u001b[0m\u001b[0;34m.\u001b[0m\u001b[0minsert\u001b[0m\u001b[0;34m(\u001b[0m\u001b[0mlen\u001b[0m\u001b[0;34m(\u001b[0m\u001b[0mself\u001b[0m\u001b[0;34m.\u001b[0m\u001b[0m_info_axis\u001b[0m\u001b[0;34m)\u001b[0m\u001b[0;34m,\u001b[0m \u001b[0mkey\u001b[0m\u001b[0;34m,\u001b[0m \u001b[0mvalue\u001b[0m\u001b[0;34m)\u001b[0m\u001b[0;34m\u001b[0m\u001b[0;34m\u001b[0m\u001b[0m\n\u001b[0m\u001b[1;32m   3755\u001b[0m         \u001b[0;32melse\u001b[0m\u001b[0;34m:\u001b[0m\u001b[0;34m\u001b[0m\u001b[0;34m\u001b[0m\u001b[0m\n\u001b[1;32m   3756\u001b[0m             \u001b[0mself\u001b[0m\u001b[0;34m.\u001b[0m\u001b[0m_iset_item_mgr\u001b[0m\u001b[0;34m(\u001b[0m\u001b[0mloc\u001b[0m\u001b[0;34m,\u001b[0m \u001b[0mvalue\u001b[0m\u001b[0;34m)\u001b[0m\u001b[0;34m\u001b[0m\u001b[0;34m\u001b[0m\u001b[0m\n",
      "\u001b[0;32m~/miniconda3/envs/minimal_ds/lib/python3.9/site-packages/pandas/core/internals/managers.py\u001b[0m in \u001b[0;36minsert\u001b[0;34m(self, loc, item, value)\u001b[0m\n\u001b[1;32m   1160\u001b[0m             \u001b[0mvalue\u001b[0m \u001b[0;34m=\u001b[0m \u001b[0mensure_block_shape\u001b[0m\u001b[0;34m(\u001b[0m\u001b[0mvalue\u001b[0m\u001b[0;34m,\u001b[0m \u001b[0mndim\u001b[0m\u001b[0;34m=\u001b[0m\u001b[0mself\u001b[0m\u001b[0;34m.\u001b[0m\u001b[0mndim\u001b[0m\u001b[0;34m)\u001b[0m\u001b[0;34m\u001b[0m\u001b[0;34m\u001b[0m\u001b[0m\n\u001b[1;32m   1161\u001b[0m \u001b[0;34m\u001b[0m\u001b[0m\n\u001b[0;32m-> 1162\u001b[0;31m         \u001b[0mblock\u001b[0m \u001b[0;34m=\u001b[0m \u001b[0mnew_block\u001b[0m\u001b[0;34m(\u001b[0m\u001b[0mvalues\u001b[0m\u001b[0;34m=\u001b[0m\u001b[0mvalue\u001b[0m\u001b[0;34m,\u001b[0m \u001b[0mndim\u001b[0m\u001b[0;34m=\u001b[0m\u001b[0mself\u001b[0m\u001b[0;34m.\u001b[0m\u001b[0mndim\u001b[0m\u001b[0;34m,\u001b[0m \u001b[0mplacement\u001b[0m\u001b[0;34m=\u001b[0m\u001b[0mslice\u001b[0m\u001b[0;34m(\u001b[0m\u001b[0mloc\u001b[0m\u001b[0;34m,\u001b[0m \u001b[0mloc\u001b[0m \u001b[0;34m+\u001b[0m \u001b[0;36m1\u001b[0m\u001b[0;34m)\u001b[0m\u001b[0;34m)\u001b[0m\u001b[0;34m\u001b[0m\u001b[0;34m\u001b[0m\u001b[0m\n\u001b[0m\u001b[1;32m   1163\u001b[0m \u001b[0;34m\u001b[0m\u001b[0m\n\u001b[1;32m   1164\u001b[0m         \u001b[0;32mfor\u001b[0m \u001b[0mblkno\u001b[0m\u001b[0;34m,\u001b[0m \u001b[0mcount\u001b[0m \u001b[0;32min\u001b[0m \u001b[0m_fast_count_smallints\u001b[0m\u001b[0;34m(\u001b[0m\u001b[0mself\u001b[0m\u001b[0;34m.\u001b[0m\u001b[0mblknos\u001b[0m\u001b[0;34m[\u001b[0m\u001b[0mloc\u001b[0m\u001b[0;34m:\u001b[0m\u001b[0;34m]\u001b[0m\u001b[0;34m)\u001b[0m\u001b[0;34m:\u001b[0m\u001b[0;34m\u001b[0m\u001b[0;34m\u001b[0m\u001b[0m\n",
      "\u001b[0;32m~/miniconda3/envs/minimal_ds/lib/python3.9/site-packages/pandas/core/internals/blocks.py\u001b[0m in \u001b[0;36mnew_block\u001b[0;34m(values, placement, ndim, klass)\u001b[0m\n\u001b[1;32m   1935\u001b[0m \u001b[0;34m\u001b[0m\u001b[0m\n\u001b[1;32m   1936\u001b[0m     \u001b[0mvalues\u001b[0m\u001b[0;34m,\u001b[0m \u001b[0m_\u001b[0m \u001b[0;34m=\u001b[0m \u001b[0mextract_pandas_array\u001b[0m\u001b[0;34m(\u001b[0m\u001b[0mvalues\u001b[0m\u001b[0;34m,\u001b[0m \u001b[0;32mNone\u001b[0m\u001b[0;34m,\u001b[0m \u001b[0mndim\u001b[0m\u001b[0;34m)\u001b[0m\u001b[0;34m\u001b[0m\u001b[0;34m\u001b[0m\u001b[0m\n\u001b[0;32m-> 1937\u001b[0;31m     \u001b[0mcheck_ndim\u001b[0m\u001b[0;34m(\u001b[0m\u001b[0mvalues\u001b[0m\u001b[0;34m,\u001b[0m \u001b[0mplacement\u001b[0m\u001b[0;34m,\u001b[0m \u001b[0mndim\u001b[0m\u001b[0;34m)\u001b[0m\u001b[0;34m\u001b[0m\u001b[0;34m\u001b[0m\u001b[0m\n\u001b[0m\u001b[1;32m   1938\u001b[0m \u001b[0;34m\u001b[0m\u001b[0m\n\u001b[1;32m   1939\u001b[0m     \u001b[0;32mif\u001b[0m \u001b[0mklass\u001b[0m \u001b[0;32mis\u001b[0m \u001b[0;32mNone\u001b[0m\u001b[0;34m:\u001b[0m\u001b[0;34m\u001b[0m\u001b[0;34m\u001b[0m\u001b[0m\n",
      "\u001b[0;32m~/miniconda3/envs/minimal_ds/lib/python3.9/site-packages/pandas/core/internals/blocks.py\u001b[0m in \u001b[0;36mcheck_ndim\u001b[0;34m(values, placement, ndim)\u001b[0m\n\u001b[1;32m   1977\u001b[0m             )\n\u001b[1;32m   1978\u001b[0m         \u001b[0;32mif\u001b[0m \u001b[0mlen\u001b[0m\u001b[0;34m(\u001b[0m\u001b[0mplacement\u001b[0m\u001b[0;34m)\u001b[0m \u001b[0;34m!=\u001b[0m \u001b[0mlen\u001b[0m\u001b[0;34m(\u001b[0m\u001b[0mvalues\u001b[0m\u001b[0;34m)\u001b[0m\u001b[0;34m:\u001b[0m\u001b[0;34m\u001b[0m\u001b[0;34m\u001b[0m\u001b[0m\n\u001b[0;32m-> 1979\u001b[0;31m             raise ValueError(\n\u001b[0m\u001b[1;32m   1980\u001b[0m                 \u001b[0;34mf\"Wrong number of items passed {len(values)}, \"\u001b[0m\u001b[0;34m\u001b[0m\u001b[0;34m\u001b[0m\u001b[0m\n\u001b[1;32m   1981\u001b[0m                 \u001b[0;34mf\"placement implies {len(placement)}\"\u001b[0m\u001b[0;34m\u001b[0m\u001b[0;34m\u001b[0m\u001b[0m\n",
      "\u001b[0;31mValueError\u001b[0m: Wrong number of items passed 2, placement implies 1"
     ]
    }
   ],
   "source": [
    "df_lim_exp['latt'] = df_lim_exp.apply(pd.Series)"
   ]
  },
  {
   "cell_type": "code",
   "execution_count": 284,
   "id": "3be349ba",
   "metadata": {},
   "outputs": [
    {
     "ename": "KeyError",
     "evalue": "'latt'",
     "output_type": "error",
     "traceback": [
      "\u001b[0;31m---------------------------------------------------------------------------\u001b[0m",
      "\u001b[0;31mKeyError\u001b[0m                                  Traceback (most recent call last)",
      "\u001b[0;32m~/miniconda3/envs/minimal_ds/lib/python3.9/site-packages/pandas/core/indexes/base.py\u001b[0m in \u001b[0;36mget_loc\u001b[0;34m(self, key, method, tolerance)\u001b[0m\n\u001b[1;32m   3360\u001b[0m             \u001b[0;32mtry\u001b[0m\u001b[0;34m:\u001b[0m\u001b[0;34m\u001b[0m\u001b[0;34m\u001b[0m\u001b[0m\n\u001b[0;32m-> 3361\u001b[0;31m                 \u001b[0;32mreturn\u001b[0m \u001b[0mself\u001b[0m\u001b[0;34m.\u001b[0m\u001b[0m_engine\u001b[0m\u001b[0;34m.\u001b[0m\u001b[0mget_loc\u001b[0m\u001b[0;34m(\u001b[0m\u001b[0mcasted_key\u001b[0m\u001b[0;34m)\u001b[0m\u001b[0;34m\u001b[0m\u001b[0;34m\u001b[0m\u001b[0m\n\u001b[0m\u001b[1;32m   3362\u001b[0m             \u001b[0;32mexcept\u001b[0m \u001b[0mKeyError\u001b[0m \u001b[0;32mas\u001b[0m \u001b[0merr\u001b[0m\u001b[0;34m:\u001b[0m\u001b[0;34m\u001b[0m\u001b[0;34m\u001b[0m\u001b[0m\n",
      "\u001b[0;32m~/miniconda3/envs/minimal_ds/lib/python3.9/site-packages/pandas/_libs/index.pyx\u001b[0m in \u001b[0;36mpandas._libs.index.IndexEngine.get_loc\u001b[0;34m()\u001b[0m\n",
      "\u001b[0;32m~/miniconda3/envs/minimal_ds/lib/python3.9/site-packages/pandas/_libs/index.pyx\u001b[0m in \u001b[0;36mpandas._libs.index.IndexEngine.get_loc\u001b[0;34m()\u001b[0m\n",
      "\u001b[0;32mpandas/_libs/hashtable_class_helper.pxi\u001b[0m in \u001b[0;36mpandas._libs.hashtable.PyObjectHashTable.get_item\u001b[0;34m()\u001b[0m\n",
      "\u001b[0;32mpandas/_libs/hashtable_class_helper.pxi\u001b[0m in \u001b[0;36mpandas._libs.hashtable.PyObjectHashTable.get_item\u001b[0;34m()\u001b[0m\n",
      "\u001b[0;31mKeyError\u001b[0m: 'latt'",
      "\nThe above exception was the direct cause of the following exception:\n",
      "\u001b[0;31mKeyError\u001b[0m                                  Traceback (most recent call last)",
      "\u001b[0;32m/tmp/ipykernel_6829/3591384568.py\u001b[0m in \u001b[0;36m<module>\u001b[0;34m\u001b[0m\n\u001b[0;32m----> 1\u001b[0;31m \u001b[0mdf_lim_exp\u001b[0m\u001b[0;34m[\u001b[0m\u001b[0;34m'latt'\u001b[0m\u001b[0;34m]\u001b[0m \u001b[0;34m=\u001b[0m \u001b[0mdf_lim_exp\u001b[0m\u001b[0;34m.\u001b[0m\u001b[0mapply\u001b[0m\u001b[0;34m(\u001b[0m\u001b[0mdf_lim_exp\u001b[0m\u001b[0;34m[\u001b[0m\u001b[0;34m'request'\u001b[0m\u001b[0;34m]\u001b[0m\u001b[0;34m[\u001b[0m\u001b[0;34m'latt'\u001b[0m\u001b[0;34m]\u001b[0m\u001b[0;34m)\u001b[0m\u001b[0;34m\u001b[0m\u001b[0;34m\u001b[0m\u001b[0m\n\u001b[0m",
      "\u001b[0;32m~/miniconda3/envs/minimal_ds/lib/python3.9/site-packages/pandas/core/series.py\u001b[0m in \u001b[0;36m__getitem__\u001b[0;34m(self, key)\u001b[0m\n\u001b[1;32m    940\u001b[0m \u001b[0;34m\u001b[0m\u001b[0m\n\u001b[1;32m    941\u001b[0m         \u001b[0;32melif\u001b[0m \u001b[0mkey_is_scalar\u001b[0m\u001b[0;34m:\u001b[0m\u001b[0;34m\u001b[0m\u001b[0;34m\u001b[0m\u001b[0m\n\u001b[0;32m--> 942\u001b[0;31m             \u001b[0;32mreturn\u001b[0m \u001b[0mself\u001b[0m\u001b[0;34m.\u001b[0m\u001b[0m_get_value\u001b[0m\u001b[0;34m(\u001b[0m\u001b[0mkey\u001b[0m\u001b[0;34m)\u001b[0m\u001b[0;34m\u001b[0m\u001b[0;34m\u001b[0m\u001b[0m\n\u001b[0m\u001b[1;32m    943\u001b[0m \u001b[0;34m\u001b[0m\u001b[0m\n\u001b[1;32m    944\u001b[0m         \u001b[0;32mif\u001b[0m \u001b[0mis_hashable\u001b[0m\u001b[0;34m(\u001b[0m\u001b[0mkey\u001b[0m\u001b[0;34m)\u001b[0m\u001b[0;34m:\u001b[0m\u001b[0;34m\u001b[0m\u001b[0;34m\u001b[0m\u001b[0m\n",
      "\u001b[0;32m~/miniconda3/envs/minimal_ds/lib/python3.9/site-packages/pandas/core/series.py\u001b[0m in \u001b[0;36m_get_value\u001b[0;34m(self, label, takeable)\u001b[0m\n\u001b[1;32m   1049\u001b[0m \u001b[0;34m\u001b[0m\u001b[0m\n\u001b[1;32m   1050\u001b[0m         \u001b[0;31m# Similar to Index.get_value, but we do not fall back to positional\u001b[0m\u001b[0;34m\u001b[0m\u001b[0;34m\u001b[0m\u001b[0m\n\u001b[0;32m-> 1051\u001b[0;31m         \u001b[0mloc\u001b[0m \u001b[0;34m=\u001b[0m \u001b[0mself\u001b[0m\u001b[0;34m.\u001b[0m\u001b[0mindex\u001b[0m\u001b[0;34m.\u001b[0m\u001b[0mget_loc\u001b[0m\u001b[0;34m(\u001b[0m\u001b[0mlabel\u001b[0m\u001b[0;34m)\u001b[0m\u001b[0;34m\u001b[0m\u001b[0;34m\u001b[0m\u001b[0m\n\u001b[0m\u001b[1;32m   1052\u001b[0m         \u001b[0;32mreturn\u001b[0m \u001b[0mself\u001b[0m\u001b[0;34m.\u001b[0m\u001b[0mindex\u001b[0m\u001b[0;34m.\u001b[0m\u001b[0m_get_values_for_loc\u001b[0m\u001b[0;34m(\u001b[0m\u001b[0mself\u001b[0m\u001b[0;34m,\u001b[0m \u001b[0mloc\u001b[0m\u001b[0;34m,\u001b[0m \u001b[0mlabel\u001b[0m\u001b[0;34m)\u001b[0m\u001b[0;34m\u001b[0m\u001b[0;34m\u001b[0m\u001b[0m\n\u001b[1;32m   1053\u001b[0m \u001b[0;34m\u001b[0m\u001b[0m\n",
      "\u001b[0;32m~/miniconda3/envs/minimal_ds/lib/python3.9/site-packages/pandas/core/indexes/base.py\u001b[0m in \u001b[0;36mget_loc\u001b[0;34m(self, key, method, tolerance)\u001b[0m\n\u001b[1;32m   3361\u001b[0m                 \u001b[0;32mreturn\u001b[0m \u001b[0mself\u001b[0m\u001b[0;34m.\u001b[0m\u001b[0m_engine\u001b[0m\u001b[0;34m.\u001b[0m\u001b[0mget_loc\u001b[0m\u001b[0;34m(\u001b[0m\u001b[0mcasted_key\u001b[0m\u001b[0;34m)\u001b[0m\u001b[0;34m\u001b[0m\u001b[0;34m\u001b[0m\u001b[0m\n\u001b[1;32m   3362\u001b[0m             \u001b[0;32mexcept\u001b[0m \u001b[0mKeyError\u001b[0m \u001b[0;32mas\u001b[0m \u001b[0merr\u001b[0m\u001b[0;34m:\u001b[0m\u001b[0;34m\u001b[0m\u001b[0;34m\u001b[0m\u001b[0m\n\u001b[0;32m-> 3363\u001b[0;31m                 \u001b[0;32mraise\u001b[0m \u001b[0mKeyError\u001b[0m\u001b[0;34m(\u001b[0m\u001b[0mkey\u001b[0m\u001b[0;34m)\u001b[0m \u001b[0;32mfrom\u001b[0m \u001b[0merr\u001b[0m\u001b[0;34m\u001b[0m\u001b[0;34m\u001b[0m\u001b[0m\n\u001b[0m\u001b[1;32m   3364\u001b[0m \u001b[0;34m\u001b[0m\u001b[0m\n\u001b[1;32m   3365\u001b[0m         \u001b[0;32mif\u001b[0m \u001b[0mis_scalar\u001b[0m\u001b[0;34m(\u001b[0m\u001b[0mkey\u001b[0m\u001b[0;34m)\u001b[0m \u001b[0;32mand\u001b[0m \u001b[0misna\u001b[0m\u001b[0;34m(\u001b[0m\u001b[0mkey\u001b[0m\u001b[0;34m)\u001b[0m \u001b[0;32mand\u001b[0m \u001b[0;32mnot\u001b[0m \u001b[0mself\u001b[0m\u001b[0;34m.\u001b[0m\u001b[0mhasnans\u001b[0m\u001b[0;34m:\u001b[0m\u001b[0;34m\u001b[0m\u001b[0;34m\u001b[0m\u001b[0m\n",
      "\u001b[0;31mKeyError\u001b[0m: 'latt'"
     ]
    }
   ],
   "source": [
    "df_lim_exp['latt'] = df_lim_exp.apply(df_lim_exp['request']['latt'])"
   ]
  },
  {
   "cell_type": "code",
   "execution_count": 181,
   "id": "950618b9",
   "metadata": {},
   "outputs": [
    {
     "data": {
      "text/html": [
       "<div>\n",
       "<style scoped>\n",
       "    .dataframe tbody tr th:only-of-type {\n",
       "        vertical-align: middle;\n",
       "    }\n",
       "\n",
       "    .dataframe tbody tr th {\n",
       "        vertical-align: top;\n",
       "    }\n",
       "\n",
       "    .dataframe thead th {\n",
       "        text-align: right;\n",
       "    }\n",
       "</style>\n",
       "<table border=\"1\" class=\"dataframe\">\n",
       "  <thead>\n",
       "    <tr style=\"text-align: right;\">\n",
       "      <th></th>\n",
       "      <th>adress</th>\n",
       "      <th>request</th>\n",
       "    </tr>\n",
       "  </thead>\n",
       "  <tbody>\n",
       "    <tr>\n",
       "      <th>Centro</th>\n",
       "      <td>Calle de Preciados, 27, 28013, Madrid</td>\n",
       "      <td>{'success': False, 'error': {'code': '006', 'm...</td>\n",
       "    </tr>\n",
       "    <tr>\n",
       "      <th>Arganzuela</th>\n",
       "      <td>Calle del Plomo, 10, 28045, Madrid</td>\n",
       "      <td>{'standard': {'stnumber': '10', 'addresst': 'C...</td>\n",
       "    </tr>\n",
       "    <tr>\n",
       "      <th>Retiro</th>\n",
       "      <td>Calle de Menorca, 6, 28009 Madrid</td>\n",
       "      <td>{'standard': {'addresst': 'Calle De Menorca', ...</td>\n",
       "    </tr>\n",
       "    <tr>\n",
       "      <th>Salamanca</th>\n",
       "      <td>Calle Serrano, 52, 28001, Madrid</td>\n",
       "      <td>{'success': False, 'error': {'code': '006', 'm...</td>\n",
       "    </tr>\n",
       "  </tbody>\n",
       "</table>\n",
       "</div>"
      ],
      "text/plain": [
       "                                           adress  \\\n",
       "Centro      Calle de Preciados, 27, 28013, Madrid   \n",
       "Arganzuela     Calle del Plomo, 10, 28045, Madrid   \n",
       "Retiro          Calle de Menorca, 6, 28009 Madrid   \n",
       "Salamanca        Calle Serrano, 52, 28001, Madrid   \n",
       "\n",
       "                                                      request  \n",
       "Centro      {'success': False, 'error': {'code': '006', 'm...  \n",
       "Arganzuela  {'standard': {'stnumber': '10', 'addresst': 'C...  \n",
       "Retiro      {'standard': {'addresst': 'Calle De Menorca', ...  \n",
       "Salamanca   {'success': False, 'error': {'code': '006', 'm...  "
      ]
     },
     "execution_count": 181,
     "metadata": {},
     "output_type": "execute_result"
    }
   ],
   "source": [
    "df1"
   ]
  },
  {
   "cell_type": "code",
   "execution_count": null,
   "id": "6c00706e",
   "metadata": {},
   "outputs": [],
   "source": []
  },
  {
   "cell_type": "code",
   "execution_count": null,
   "id": "6dc883fe",
   "metadata": {},
   "outputs": [],
   "source": []
  },
  {
   "cell_type": "code",
   "execution_count": null,
   "id": "0823be19",
   "metadata": {},
   "outputs": [],
   "source": []
  },
  {
   "cell_type": "code",
   "execution_count": null,
   "id": "8f67b0a2",
   "metadata": {},
   "outputs": [],
   "source": []
  },
  {
   "cell_type": "code",
   "execution_count": 176,
   "id": "1ad56992",
   "metadata": {},
   "outputs": [],
   "source": [
    "def nwdf(df):\n",
    "    for i in range(len(df)):\n",
    "        try:\n",
    "            df_mask =df1['request'][0]['success'] == False\n",
    "            if df_mask == False:\n",
    "                 return df[df_mask]\n",
    "        except:\n",
    "            return nan"
   ]
  },
  {
   "cell_type": "code",
   "execution_count": 180,
   "id": "93fd5f6e",
   "metadata": {},
   "outputs": [
    {
     "data": {
      "text/html": [
       "<div>\n",
       "<style scoped>\n",
       "    .dataframe tbody tr th:only-of-type {\n",
       "        vertical-align: middle;\n",
       "    }\n",
       "\n",
       "    .dataframe tbody tr th {\n",
       "        vertical-align: top;\n",
       "    }\n",
       "\n",
       "    .dataframe thead th {\n",
       "        text-align: right;\n",
       "    }\n",
       "</style>\n",
       "<table border=\"1\" class=\"dataframe\">\n",
       "  <thead>\n",
       "    <tr style=\"text-align: right;\">\n",
       "      <th></th>\n",
       "    </tr>\n",
       "  </thead>\n",
       "  <tbody>\n",
       "  </tbody>\n",
       "</table>\n",
       "</div>"
      ],
      "text/plain": [
       "Empty DataFrame\n",
       "Columns: []\n",
       "Index: []"
      ]
     },
     "execution_count": 180,
     "metadata": {},
     "output_type": "execute_result"
    }
   ],
   "source": [
    "df_sucio = pd.DataFrame(nwdf(df1))\n",
    "df_sucio"
   ]
  },
  {
   "cell_type": "code",
   "execution_count": 275,
   "id": "178d6cf8",
   "metadata": {},
   "outputs": [],
   "source": [
    "#df_limpio = df1[df1['request'].str.contains(\"success\", case=False)]\n",
    "#df1.query('Sales == 300')\n",
    "#contains"
   ]
  },
  {
   "cell_type": "code",
   "execution_count": null,
   "id": "97f28812",
   "metadata": {},
   "outputs": [],
   "source": []
  },
  {
   "cell_type": "code",
   "execution_count": 277,
   "id": "1d832d9a",
   "metadata": {},
   "outputs": [],
   "source": [
    "#import googlemaps\n",
    "#KEY = os.getenv('google')\n",
    "#gmaps = googlemaps.Client(key=KEY)"
   ]
  },
  {
   "cell_type": "code",
   "execution_count": 278,
   "id": "efa184e0",
   "metadata": {},
   "outputs": [],
   "source": [
    "def get_coordinates(address):\n",
    "    city = 'spain'\n",
    "    geocode_result = gmaps.geocode(str(address) +' '+ city)\n",
    "    if len(geocode_result) > 0:\n",
    "        return list(geocode_result[0]['geometry']['location'].values())\n",
    "    else:\n",
    "        return [np.NaN, np.NaN]"
   ]
  },
  {
   "cell_type": "code",
   "execution_count": 279,
   "id": "748f8538",
   "metadata": {},
   "outputs": [],
   "source": [
    "#offices_df['request'] = offices_df.adress.apply(get_coordinates)"
   ]
  },
  {
   "cell_type": "code",
   "execution_count": null,
   "id": "fb98c05b",
   "metadata": {},
   "outputs": [],
   "source": []
  },
  {
   "cell_type": "code",
   "execution_count": null,
   "id": "3726b078",
   "metadata": {},
   "outputs": [],
   "source": [
    "#offices_df['request'][6]"
   ]
  },
  {
   "cell_type": "code",
   "execution_count": null,
   "id": "08899565",
   "metadata": {},
   "outputs": [],
   "source": [
    "#time.sleep(20)"
   ]
  },
  {
   "cell_type": "code",
   "execution_count": null,
   "id": "d5ca8da3",
   "metadata": {},
   "outputs": [],
   "source": [
    "#'success' in offices_df['request'][1]"
   ]
  },
  {
   "cell_type": "code",
   "execution_count": null,
   "id": "a78dc2df",
   "metadata": {},
   "outputs": [],
   "source": [
    "def Birequest(col):\n",
    "    if'success' in col:\n",
    "        return offices_df.adress.apply(geocode)\n",
    "    else:\n",
    "        return col"
   ]
  },
  {
   "cell_type": "code",
   "execution_count": null,
   "id": "0a8fb814",
   "metadata": {},
   "outputs": [],
   "source": [
    "#offices_df"
   ]
  },
  {
   "cell_type": "code",
   "execution_count": null,
   "id": "c5b58f33",
   "metadata": {},
   "outputs": [],
   "source": [
    "#df['birequest'] = offices_df.request.apply(Birequest)"
   ]
  },
  {
   "cell_type": "code",
   "execution_count": null,
   "id": "c89dc7bb",
   "metadata": {},
   "outputs": [],
   "source": [
    "#df"
   ]
  },
  {
   "cell_type": "code",
   "execution_count": null,
   "id": "d6a546ca",
   "metadata": {},
   "outputs": [],
   "source": [
    "#offices_df['birequest'] = offices_df.request.apply(Birequest)\n"
   ]
  },
  {
   "cell_type": "code",
   "execution_count": null,
   "id": "af527070",
   "metadata": {},
   "outputs": [],
   "source": [
    "#offices_df.to_csv('../data/oficinas_bruto.csv')"
   ]
  },
  {
   "cell_type": "code",
   "execution_count": null,
   "id": "5b6d5cfb",
   "metadata": {},
   "outputs": [],
   "source": [
    "#o_df['latt'] = o_df.bibirequest.apply(o_df['bibirequest']['latt'])"
   ]
  },
  {
   "cell_type": "code",
   "execution_count": null,
   "id": "f6985692",
   "metadata": {},
   "outputs": [],
   "source": [
    "o_df['bibirequest']['Centro']['latt']"
   ]
  },
  {
   "cell_type": "code",
   "execution_count": null,
   "id": "74a51236",
   "metadata": {},
   "outputs": [],
   "source": [
    "o_df.apply(lambda:o_df['latt'] = o_df['bibirequest']['latt'])"
   ]
  },
  {
   "cell_type": "code",
   "execution_count": null,
   "id": "924a8bea",
   "metadata": {},
   "outputs": [],
   "source": [
    "df = o_df['bibirequest']\n",
    "df"
   ]
  },
  {
   "cell_type": "code",
   "execution_count": null,
   "id": "e555d1af",
   "metadata": {},
   "outputs": [],
   "source": [
    " df.apply(pd.Series)"
   ]
  },
  {
   "cell_type": "code",
   "execution_count": null,
   "id": "d46a36e2",
   "metadata": {},
   "outputs": [],
   "source": []
  },
  {
   "cell_type": "code",
   "execution_count": null,
   "id": "536553be",
   "metadata": {},
   "outputs": [],
   "source": []
  },
  {
   "cell_type": "code",
   "execution_count": null,
   "id": "d533a5c3",
   "metadata": {},
   "outputs": [],
   "source": []
  },
  {
   "cell_type": "code",
   "execution_count": null,
   "id": "3d394c3e",
   "metadata": {},
   "outputs": [],
   "source": []
  },
  {
   "cell_type": "code",
   "execution_count": null,
   "id": "865e5ab0",
   "metadata": {},
   "outputs": [],
   "source": []
  },
  {
   "cell_type": "code",
   "execution_count": null,
   "id": "4300e143",
   "metadata": {},
   "outputs": [],
   "source": []
  }
 ],
 "metadata": {
  "kernelspec": {
   "display_name": "minimal_ds",
   "language": "python",
   "name": "minimal_ds"
  },
  "language_info": {
   "codemirror_mode": {
    "name": "ipython",
    "version": 3
   },
   "file_extension": ".py",
   "mimetype": "text/x-python",
   "name": "python",
   "nbconvert_exporter": "python",
   "pygments_lexer": "ipython3",
   "version": "3.9.7"
  }
 },
 "nbformat": 4,
 "nbformat_minor": 5
}
