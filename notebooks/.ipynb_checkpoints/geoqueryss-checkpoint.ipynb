{
 "cells": [
  {
   "cell_type": "code",
   "execution_count": 106,
   "id": "6cd1f829",
   "metadata": {},
   "outputs": [
    {
     "data": {
      "text/plain": [
       "True"
      ]
     },
     "execution_count": 106,
     "metadata": {},
     "output_type": "execute_result"
    }
   ],
   "source": [
    "import requests\n",
    "import json\n",
    "import os\n",
    "import pandas as pd\n",
    "from functools import reduce\n",
    "import operator\n",
    "import pyjsonviewer\n",
    "import geopandas as gpd\n",
    "import time\n",
    "import requests\n",
    "from bs4 import BeautifulSoup\n",
    "from shapely.geometry import Point\n",
    "from pymongo import MongoClient\n",
    "import pandas as pd\n",
    "import requests\n",
    "import json\n",
    "from dotenv import load_dotenv\n",
    "import os\n",
    "import pandas as pd\n",
    "import numpy as np\n",
    "from pymongo import GEOSPHERE\n",
    "import shapely.geometry\n",
    "\n",
    "from dotenv import load_dotenv\n",
    "load_dotenv()"
   ]
  },
  {
   "cell_type": "code",
   "execution_count": null,
   "id": "fc8fdc74",
   "metadata": {},
   "outputs": [],
   "source": []
  },
  {
   "cell_type": "code",
   "execution_count": 107,
   "id": "c795a068",
   "metadata": {},
   "outputs": [],
   "source": [
    "df_o = pd.read_csv('../data/misOfis.csv')\n",
    "df_e = pd.read_csv('../data/empresasTech.csv')\n",
    "df_l = pd.read_csv('../data/df_lugares.csv')"
   ]
  },
  {
   "cell_type": "code",
   "execution_count": 108,
   "id": "035621f5",
   "metadata": {},
   "outputs": [
    {
     "data": {
      "text/plain": [
       "Database(MongoClient(host=['localhost:27017'], document_class=dict, tz_aware=False, connect=True), 'ironhack')"
      ]
     },
     "execution_count": 108,
     "metadata": {},
     "output_type": "execute_result"
    }
   ],
   "source": [
    "client = MongoClient(\"localhost:27017\")\n",
    "db = client.get_database(\"ironhack\")\n",
    "db"
   ]
  },
  {
   "cell_type": "code",
   "execution_count": 109,
   "id": "fd3b6ad4",
   "metadata": {},
   "outputs": [],
   "source": [
    "mo = db.get_collection(\"misOfis\")\n",
    "me = db.get_collection(\"misEmp\")\n",
    "ml = db.get_collection(\"misLug\")"
   ]
  },
  {
   "cell_type": "code",
   "execution_count": 110,
   "id": "00ff7f8a",
   "metadata": {},
   "outputs": [],
   "source": [
    "geomo = gpd.GeoDataFrame(df_p, geometry=gpd.points_from_xy(df_p.longt, df_p.latt))\n",
    "geome = gpd.GeoDataFrame(df_e, geometry=gpd.points_from_xy(df_e.longitude, df_e.latitude))\n",
    "geoml = gpd.GeoDataFrame(df_l, geometry=gpd.points_from_xy(df_l.longitud, df_l.latitud))"
   ]
  },
  {
   "cell_type": "code",
   "execution_count": 111,
   "id": "016417e2",
   "metadata": {},
   "outputs": [
    {
     "name": "stderr",
     "output_type": "stream",
     "text": [
      "/home/fer/miniconda3/envs/minimal_ds/lib/python3.9/site-packages/geopandas/geodataframe.py:1350: UserWarning: Geometry column does not contain geometry.\n",
      "  warnings.warn(\"Geometry column does not contain geometry.\")\n"
     ]
    },
    {
     "data": {
      "text/plain": [
       "<pymongo.results.InsertManyResult at 0x7fc8a4352f40>"
      ]
     },
     "execution_count": 111,
     "metadata": {},
     "output_type": "execute_result"
    }
   ],
   "source": [
    "geomo['geometry']=geomo['geometry'].apply(lambda x:shapely.geometry.mapping(x))\n",
    "geomodic = geomo.to_dict(orient=\"records\")\n",
    "mo.create_index([(\"geometry\", GEOSPHERE)])\n",
    "mo.insert_many(geomodic)"
   ]
  },
  {
   "cell_type": "code",
   "execution_count": 112,
   "id": "8907a806",
   "metadata": {},
   "outputs": [
    {
     "name": "stderr",
     "output_type": "stream",
     "text": [
      "/home/fer/miniconda3/envs/minimal_ds/lib/python3.9/site-packages/geopandas/geodataframe.py:1350: UserWarning: Geometry column does not contain geometry.\n",
      "  warnings.warn(\"Geometry column does not contain geometry.\")\n"
     ]
    },
    {
     "data": {
      "text/plain": [
       "<pymongo.results.InsertManyResult at 0x7fc8a424de80>"
      ]
     },
     "execution_count": 112,
     "metadata": {},
     "output_type": "execute_result"
    }
   ],
   "source": [
    "geome['geometry']=geome['geometry'].apply(lambda x:shapely.geometry.mapping(x))\n",
    "geomedic = geome.to_dict(orient=\"records\")\n",
    "me.create_index([(\"geometry\", GEOSPHERE)])\n",
    "me.insert_many(geomodic)"
   ]
  },
  {
   "cell_type": "code",
   "execution_count": 113,
   "id": "73e67ee0",
   "metadata": {},
   "outputs": [
    {
     "name": "stderr",
     "output_type": "stream",
     "text": [
      "/home/fer/miniconda3/envs/minimal_ds/lib/python3.9/site-packages/geopandas/geodataframe.py:1350: UserWarning: Geometry column does not contain geometry.\n",
      "  warnings.warn(\"Geometry column does not contain geometry.\")\n"
     ]
    },
    {
     "data": {
      "text/plain": [
       "<pymongo.results.InsertManyResult at 0x7fc8a4142840>"
      ]
     },
     "execution_count": 113,
     "metadata": {},
     "output_type": "execute_result"
    }
   ],
   "source": [
    "geoml['geometry']=geoml['geometry'].apply(lambda x:shapely.geometry.mapping(x))\n",
    "geomldic = geoml.to_dict(orient=\"records\")\n",
    "ml.create_index([(\"geometry\", GEOSPHERE)])\n",
    "ml.insert_many(geomodic)"
   ]
  },
  {
   "cell_type": "code",
   "execution_count": null,
   "id": "0f584257",
   "metadata": {},
   "outputs": [],
   "source": []
  },
  {
   "cell_type": "code",
   "execution_count": 122,
   "id": "68dbc8b4",
   "metadata": {},
   "outputs": [
    {
     "data": {
      "text/plain": [
       "\"': [40.39238, -3.68972]}\""
      ]
     },
     "execution_count": 122,
     "metadata": {},
     "output_type": "execute_result"
    }
   ],
   "source": [
    "unod = df_o['coord'][0]\n",
    "unod[30:]\n"
   ]
  },
  {
   "cell_type": "code",
   "execution_count": 127,
   "id": "4a76f338",
   "metadata": {},
   "outputs": [],
   "source": [
    "querymo = [{\"$geoNear\": {\n",
    "            \"near\": [ -3.68972,40.39238],\n",
    "            \"distanceField\": \"geodistancia\",\n",
    "            \"maxDistance\": 1000,\n",
    "            \"distanceMultiplier\" :6371,\n",
    "            \"spherical\": True}}]\n",
    "geoloc_mo = list(mo.aggregate(querymo))"
   ]
  },
  {
   "cell_type": "code",
   "execution_count": 128,
   "id": "93714a8e",
   "metadata": {},
   "outputs": [],
   "source": [
    "geoloc_mo = pd.DataFrame(geoloc_mo)\n",
    "geoloc_mo.drop(['_id','geometry'], axis=1, inplace=True)"
   ]
  },
  {
   "cell_type": "code",
   "execution_count": 129,
   "id": "4f9dcc3b",
   "metadata": {},
   "outputs": [
    {
     "data": {
      "text/html": [
       "<div>\n",
       "<style scoped>\n",
       "    .dataframe tbody tr th:only-of-type {\n",
       "        vertical-align: middle;\n",
       "    }\n",
       "\n",
       "    .dataframe tbody tr th {\n",
       "        vertical-align: top;\n",
       "    }\n",
       "\n",
       "    .dataframe thead th {\n",
       "        text-align: right;\n",
       "    }\n",
       "</style>\n",
       "<table border=\"1\" class=\"dataframe\">\n",
       "  <thead>\n",
       "    <tr style=\"text-align: right;\">\n",
       "      <th></th>\n",
       "      <th>name</th>\n",
       "      <th>longt</th>\n",
       "      <th>latt</th>\n",
       "      <th>coord</th>\n",
       "      <th>geodistancia</th>\n",
       "    </tr>\n",
       "  </thead>\n",
       "  <tbody>\n",
       "    <tr>\n",
       "      <th>0</th>\n",
       "      <td>Arganzuela</td>\n",
       "      <td>-3.68972</td>\n",
       "      <td>40.39238</td>\n",
       "      <td>{'type': 'Point', 'coordinates': [40.39238, -3...</td>\n",
       "      <td>0.000000</td>\n",
       "    </tr>\n",
       "    <tr>\n",
       "      <th>1</th>\n",
       "      <td>Arganzuela</td>\n",
       "      <td>-3.68972</td>\n",
       "      <td>40.39238</td>\n",
       "      <td>{'type': 'Point', 'coordinates': [40.39238, -3...</td>\n",
       "      <td>0.000000</td>\n",
       "    </tr>\n",
       "    <tr>\n",
       "      <th>2</th>\n",
       "      <td>Arganzuela</td>\n",
       "      <td>-3.68972</td>\n",
       "      <td>40.39238</td>\n",
       "      <td>{'type': 'Point', 'coordinates': [40.39238, -3...</td>\n",
       "      <td>0.000000</td>\n",
       "    </tr>\n",
       "    <tr>\n",
       "      <th>3</th>\n",
       "      <td>Arganzuela</td>\n",
       "      <td>-3.68972</td>\n",
       "      <td>40.39238</td>\n",
       "      <td>{'type': 'Point', 'coordinates': [40.39238, -3...</td>\n",
       "      <td>0.000000</td>\n",
       "    </tr>\n",
       "    <tr>\n",
       "      <th>4</th>\n",
       "      <td>Arganzuela</td>\n",
       "      <td>-3.68972</td>\n",
       "      <td>40.39238</td>\n",
       "      <td>{'type': 'Point', 'coordinates': [40.39238, -3...</td>\n",
       "      <td>0.000000</td>\n",
       "    </tr>\n",
       "    <tr>\n",
       "      <th>...</th>\n",
       "      <td>...</td>\n",
       "      <td>...</td>\n",
       "      <td>...</td>\n",
       "      <td>...</td>\n",
       "      <td>...</td>\n",
       "    </tr>\n",
       "    <tr>\n",
       "      <th>121</th>\n",
       "      <td>Barajas</td>\n",
       "      <td>-3.59395</td>\n",
       "      <td>40.46079</td>\n",
       "      <td>{'type': 'Point', 'coordinates': [40.46079, -3...</td>\n",
       "      <td>11.116644</td>\n",
       "    </tr>\n",
       "    <tr>\n",
       "      <th>122</th>\n",
       "      <td>Barajas</td>\n",
       "      <td>-3.59395</td>\n",
       "      <td>40.46079</td>\n",
       "      <td>{'type': 'Point', 'coordinates': [40.46079, -3...</td>\n",
       "      <td>11.116644</td>\n",
       "    </tr>\n",
       "    <tr>\n",
       "      <th>123</th>\n",
       "      <td>Barajas</td>\n",
       "      <td>-3.59395</td>\n",
       "      <td>40.46079</td>\n",
       "      <td>{'type': 'Point', 'coordinates': [40.46079, -3...</td>\n",
       "      <td>11.116644</td>\n",
       "    </tr>\n",
       "    <tr>\n",
       "      <th>124</th>\n",
       "      <td>Barajas</td>\n",
       "      <td>-3.59395</td>\n",
       "      <td>40.46079</td>\n",
       "      <td>{'type': 'Point', 'coordinates': [40.46079, -3...</td>\n",
       "      <td>11.116644</td>\n",
       "    </tr>\n",
       "    <tr>\n",
       "      <th>125</th>\n",
       "      <td>Barajas</td>\n",
       "      <td>-3.59395</td>\n",
       "      <td>40.46079</td>\n",
       "      <td>{'type': 'Point', 'coordinates': [40.46079, -3...</td>\n",
       "      <td>11.116644</td>\n",
       "    </tr>\n",
       "  </tbody>\n",
       "</table>\n",
       "<p>126 rows × 5 columns</p>\n",
       "</div>"
      ],
      "text/plain": [
       "           name    longt      latt  \\\n",
       "0    Arganzuela -3.68972  40.39238   \n",
       "1    Arganzuela -3.68972  40.39238   \n",
       "2    Arganzuela -3.68972  40.39238   \n",
       "3    Arganzuela -3.68972  40.39238   \n",
       "4    Arganzuela -3.68972  40.39238   \n",
       "..          ...      ...       ...   \n",
       "121     Barajas -3.59395  40.46079   \n",
       "122     Barajas -3.59395  40.46079   \n",
       "123     Barajas -3.59395  40.46079   \n",
       "124     Barajas -3.59395  40.46079   \n",
       "125     Barajas -3.59395  40.46079   \n",
       "\n",
       "                                                 coord  geodistancia  \n",
       "0    {'type': 'Point', 'coordinates': [40.39238, -3...      0.000000  \n",
       "1    {'type': 'Point', 'coordinates': [40.39238, -3...      0.000000  \n",
       "2    {'type': 'Point', 'coordinates': [40.39238, -3...      0.000000  \n",
       "3    {'type': 'Point', 'coordinates': [40.39238, -3...      0.000000  \n",
       "4    {'type': 'Point', 'coordinates': [40.39238, -3...      0.000000  \n",
       "..                                                 ...           ...  \n",
       "121  {'type': 'Point', 'coordinates': [40.46079, -3...     11.116644  \n",
       "122  {'type': 'Point', 'coordinates': [40.46079, -3...     11.116644  \n",
       "123  {'type': 'Point', 'coordinates': [40.46079, -3...     11.116644  \n",
       "124  {'type': 'Point', 'coordinates': [40.46079, -3...     11.116644  \n",
       "125  {'type': 'Point', 'coordinates': [40.46079, -3...     11.116644  \n",
       "\n",
       "[126 rows x 5 columns]"
      ]
     },
     "execution_count": 129,
     "metadata": {},
     "output_type": "execute_result"
    }
   ],
   "source": [
    "geoloc_mo"
   ]
  },
  {
   "cell_type": "code",
   "execution_count": null,
   "id": "2241d5b8",
   "metadata": {},
   "outputs": [],
   "source": []
  },
  {
   "cell_type": "code",
   "execution_count": null,
   "id": "762b6176",
   "metadata": {},
   "outputs": [],
   "source": []
  },
  {
   "cell_type": "code",
   "execution_count": null,
   "id": "e3d3fc2a",
   "metadata": {},
   "outputs": [],
   "source": []
  }
 ],
 "metadata": {
  "kernelspec": {
   "display_name": "minimal_ds",
   "language": "python",
   "name": "minimal_ds"
  },
  "language_info": {
   "codemirror_mode": {
    "name": "ipython",
    "version": 3
   },
   "file_extension": ".py",
   "mimetype": "text/x-python",
   "name": "python",
   "nbconvert_exporter": "python",
   "pygments_lexer": "ipython3",
   "version": "3.9.7"
  }
 },
 "nbformat": 4,
 "nbformat_minor": 5
}
